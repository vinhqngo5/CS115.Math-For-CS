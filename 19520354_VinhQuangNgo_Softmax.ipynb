{
  "nbformat": 4,
  "nbformat_minor": 0,
  "metadata": {
    "kernelspec": {
      "display_name": "Python 3",
      "name": "python3"
    },
    "language_info": {
      "name": "python"
    },
    "colab": {
      "name": "softmax_regression_CS115.ipynb",
      "provenance": [],
      "collapsed_sections": []
    }
  },
  "cells": [
    {
      "cell_type": "markdown",
      "metadata": {
        "id": "iaQdUUdFPYKE"
      },
      "source": [
        "The following additional libraries are needed to run this\n",
        "notebook. Note that running on Colab is experimental, please report a Github\n",
        "issue if you have any problem."
      ]
    },
    {
      "cell_type": "code",
      "metadata": {
        "id": "zFAYG6YVPYKE",
        "colab": {
          "base_uri": "https://localhost:8080/"
        },
        "outputId": "12730cce-6032-4643-ae50-f729281cbcef"
      },
      "source": [
        "# Cài đặt một số thư viện cần thiết\n",
        "!pip install d2l==0.15.1 "
      ],
      "execution_count": null,
      "outputs": [
        {
          "output_type": "stream",
          "text": [
            "Installing collected packages: d2l\n",
            "Successfully installed d2l-0.15.1\n"
          ],
          "name": "stdout"
        }
      ]
    },
    {
      "cell_type": "markdown",
      "metadata": {
        "origin_pos": 0,
        "id": "_IvrMpjEPYKE"
      },
      "source": [
        "# Implementation of Softmax Regression from Scratch\n",
        ":label:`sec_softmax_scratch`\n",
        "\n",
        "Just as we implemented linear regression from scratch,\n",
        "we believe that softmax regression\n",
        "is similarly fundamental and you ought to know\n",
        "the gory details of how to implement it yourself.\n",
        "We will work with the Fashion-MNIST dataset, just introduced in :numref:`sec_fashion_mnist`,\n",
        "setting up a data iterator with batch size 256.\n"
      ]
    },
    {
      "cell_type": "code",
      "metadata": {
        "origin_pos": 3,
        "tab": [
          "tensorflow"
        ],
        "id": "Trme4wPAPYKE"
      },
      "source": [
        "# Import thư viện vào chương trình\n",
        "from d2l import tensorflow as d2l   # import thư viện bổ sung cho tensorflow của d2l\n",
        "import tensorflow as tf   \n",
        "from IPython import display # Thư viện để hiển thị ảnh trên notebook"
      ],
      "execution_count": null,
      "outputs": []
    },
    {
      "cell_type": "code",
      "metadata": {
        "origin_pos": 4,
        "tab": [
          "tensorflow"
        ],
        "id": "8YfoM6u6PYKF"
      },
      "source": [
        "batch_size = 256 # Thêm batch_zize \n",
        "train_iter, test_iter = d2l.load_data_fashion_mnist(batch_size) # Download bộ fashion - mnist dataset, chia 2 tập train và test, mỗi mini-batch có 256 ảnh\n",
        "# Trong đó train_iter là một iterator có thể loop qua các mini-batch dùng để train(mỗi mini-batch sẽ có 256 objects) \n",
        "# Trong đó test_iter là một iterator có thể loop qua các mini-batch dùng để test(mỗi mini-batch sẽ có 256 objects) "
      ],
      "execution_count": null,
      "outputs": []
    },
    {
      "cell_type": "markdown",
      "metadata": {
        "origin_pos": 5,
        "id": "QYKeFtSVPYKF"
      },
      "source": [
        "## Initializing Model Parameters\n",
        "\n",
        "As in our linear regression example,\n",
        "each example here will be represented by a fixed-length vector.\n",
        "Each example in the raw dataset is a $28 \\times 28$ image.\n",
        "In this section, we will flatten each image,\n",
        "treating them as vectors of length 784.\n",
        "In the future, we will talk about more sophisticated strategies\n",
        "for exploiting the spatial structure in images,\n",
        "but for now we treat each pixel location as just another feature.\n",
        "\n",
        "Recall that in softmax regression,\n",
        "we have as many outputs as there are classes.\n",
        "Because our dataset has 10 classes,\n",
        "our network will have an output dimension of 10.\n",
        "Consequently, our weights will constitute a $784 \\times 10$ matrix\n",
        "and the biases will constitute a $1 \\times 10$ row vector.\n",
        "As with linear regression, we will initialize our weights `W`\n",
        "with Gaussian noise and our biases to take the initial value 0.\n"
      ]
    },
    {
      "cell_type": "code",
      "metadata": {
        "origin_pos": 8,
        "tab": [
          "tensorflow"
        ],
        "id": "0aYo9sd-PYKF"
      },
      "source": [
        "num_inputs = 784 # Một bức ảnh có kích thước 28*28 pixels -> flatten tạo thành một vector trong không gian 784 chiều -> mỗi x sẽ có 784 inputs dầu vào\n",
        "num_outputs = 10 # Trong bộ dataset này, ta sẽ chia ra làm 10 classes -> output sẽ là xác suất OneVsRest của từng loại\n",
        "\n",
        "# ['t-shirt', 'trouser', 'pullover', 'dress', 'coat', 'sandal', 'shirt', 'sneaker', 'bag', 'ankle boot']\n",
        "W = tf.Variable(tf.random.normal(shape=(num_inputs, num_outputs), # Khởi tạo W theo phân phối gausse -> là một ma trận 784 x 10 ứng với số inputs và outputs\n",
        "                                 mean=0, stddev=0.01)) # Giá trị kì vọng = 0 và độ lệch chuẩn = 0.01\n",
        "b = tf.Variable(tf.zeros(num_outputs)) # Khởi tạo biases với giá trị khởi tạo là 0"
      ],
      "execution_count": null,
      "outputs": []
    },
    {
      "cell_type": "markdown",
      "metadata": {
        "origin_pos": 9,
        "id": "tAwaYh8KPYKF"
      },
      "source": [
        "## Defining the Softmax Operation\n",
        "\n",
        "Before implementing the softmax regression model,\n",
        "let us briefly review how the sum operator works\n",
        "along specific dimensions in a tensor,\n",
        "as discussed in :numref:`subseq_lin-alg-reduction` and :numref:`subseq_lin-alg-non-reduction`.\n",
        "Given a matrix `X` we can sum over all elements (by default) or only\n",
        "over elements in the same axis,\n",
        "i.e., the same column (axis 0) or the same row (axis 1).\n",
        "Note that if `X` is a tensor with shape (2, 3)\n",
        "and we sum over the columns,\n",
        "the result will be a vector with shape (3,).\n",
        "When invoking the sum operator,\n",
        "we can specify to keep the number of axes in the original tensor,\n",
        "rather than collapsing out the dimension that we summed over.\n",
        "This will result in a two-dimensional tensor with shape (1, 3).\n"
      ]
    },
    {
      "cell_type": "code",
      "metadata": {
        "origin_pos": 11,
        "tab": [
          "tensorflow"
        ],
        "id": "iO_6L-DWPYKF",
        "colab": {
          "base_uri": "https://localhost:8080/"
        },
        "outputId": "94f8a62d-c289-4b0c-fd0e-28e9284f3684"
      },
      "source": [
        "X = tf.constant([[1.0, 2.0, 3.0], [4.0, 5.0, 6.0]]) # Khởi tạo một ma trận X 2x3\n",
        "tf.reduce_sum(X, 0, keepdims=True), tf.reduce_sum(X, 1, keepdims=True) # Tính tổng từng trục của X, keepdims=True để không bị gộp ma trận cột thành ma trận hàng"
      ],
      "execution_count": null,
      "outputs": [
        {
          "output_type": "execute_result",
          "data": {
            "text/plain": [
              "(<tf.Tensor: shape=(1, 3), dtype=float32, numpy=array([[5., 7., 9.]], dtype=float32)>,\n",
              " <tf.Tensor: shape=(2, 1), dtype=float32, numpy=\n",
              " array([[ 6.],\n",
              "        [15.]], dtype=float32)>)"
            ]
          },
          "metadata": {
            "tags": []
          },
          "execution_count": 48
        }
      ]
    },
    {
      "cell_type": "markdown",
      "metadata": {
        "origin_pos": 12,
        "id": "meluh_eGPYKG"
      },
      "source": [
        "We are now ready to implement the softmax operation.\n",
        "Recall that softmax consists of three steps:\n",
        "i) we exponentiate each term (using `exp`);\n",
        "ii) we sum over each row (we have one row per example in the batch)\n",
        "to get the normalization constant for each example;\n",
        "iii) we divide each row by its normalization constant,\n",
        "ensuring that the result sums to 1.\n",
        "Before looking at the code, let us recall\n",
        "how this looks expressed as an equation:\n",
        "\n",
        "$$\n",
        "\\mathrm{softmax}(\\mathbf{X})_{ij} = \\frac{\\exp(\\mathbf{X}_{ij})}{\\sum_k \\exp(\\mathbf{X}_{ik})}.\n",
        "$$\n",
        "\n",
        "The denominator, or normalization constant,\n",
        "is also sometimes called the *partition function*\n",
        "(and its logarithm is called the log-partition function).\n",
        "The origins of that name are in [statistical physics](https://en.wikipedia.org/wiki/Partition_function_(statistical_mechanics))\n",
        "where a related equation models the distribution\n",
        "over an ensemble of particles.\n"
      ]
    },
    {
      "cell_type": "code",
      "metadata": {
        "origin_pos": 13,
        "tab": [
          "tensorflow"
        ],
        "id": "p1ckv8RxPYKG"
      },
      "source": [
        "def softmax(X): # Khai báo hàm softmax truyền vào một ma trận X\n",
        "    X_exp = tf.exp(X) # X_exp là một ma trận với mỗi giá trị là e^xij \n",
        "    partition = tf.reduce_sum(X_exp, 1, keepdims=True) # Tính tổng từng trục của X_exp và giữ nguyên số chiều của ma trận\n",
        "    return X_exp / partition  # trả về một ma trận với mỗi aij là xác suất được phân vào class j của vector xi"
      ],
      "execution_count": null,
      "outputs": []
    },
    {
      "cell_type": "markdown",
      "metadata": {
        "origin_pos": 15,
        "id": "sWVVxsWhPYKG"
      },
      "source": [
        "As you can see, for any random input,\n",
        "we turn each element into a non-negative number.\n",
        "Moreover, each row sums up to 1,\n",
        "as is required for a probability.\n"
      ]
    },
    {
      "cell_type": "code",
      "metadata": {
        "origin_pos": 17,
        "tab": [
          "tensorflow"
        ],
        "id": "T_25wJTqPYKG",
        "colab": {
          "base_uri": "https://localhost:8080/"
        },
        "outputId": "3d3546cf-9ed8-4491-daee-912df59289f8"
      },
      "source": [
        "X = tf.random.normal((2, 5), 0, 1) # Khởi tạo một ma trận 2x5 với kì vọng là 0 và độ lệch chuẩn là 1\n",
        "X_prob = softmax(X) # tính softmax của ma trận X\n",
        "X_prob, tf.reduce_sum(X_prob, 1) # Xuất ra X_prob và tổng từng hàng của X_prob\n",
        "# Nhận xét: mỗi hàng đều có tổng xấp xỉ 1 -> tổng các xác suất = 1 -> sự khác biệt của softmax vs logistic regression"
      ],
      "execution_count": null,
      "outputs": [
        {
          "output_type": "execute_result",
          "data": {
            "text/plain": [
              "(<tf.Tensor: shape=(2, 5), dtype=float32, numpy=\n",
              " array([[0.34889966, 0.2638116 , 0.20318234, 0.12954965, 0.05455678],\n",
              "        [0.11596616, 0.21910927, 0.11256724, 0.49993986, 0.05241746]],\n",
              "       dtype=float32)>,\n",
              " <tf.Tensor: shape=(2,), dtype=float32, numpy=array([1., 1.], dtype=float32)>)"
            ]
          },
          "metadata": {
            "tags": []
          },
          "execution_count": 54
        }
      ]
    },
    {
      "cell_type": "markdown",
      "metadata": {
        "origin_pos": 18,
        "id": "VCZ_yrGpPYKG"
      },
      "source": [
        "Note that while this looks correct mathematically,\n",
        "we were a bit sloppy in our implementation\n",
        "because we failed to take precautions against numerical overflow or underflow\n",
        "due to large or very small elements of the matrix.\n",
        "\n",
        "## Defining the Model\n",
        "\n",
        "Now that we have defined the softmax operation,\n",
        "we can implement the softmax regression model.\n",
        "The below code defines how the input is mapped to the output through the network.\n",
        "Note that we flatten each original image in the batch\n",
        "into a vector using the `reshape` function\n",
        "before passing the data through our model.\n"
      ]
    },
    {
      "cell_type": "code",
      "metadata": {
        "origin_pos": 19,
        "tab": [
          "tensorflow"
        ],
        "id": "LYyU3HD9PYKG"
      },
      "source": [
        "def net(X): # Khai báo một cái mạng -> mạng bao gồm bước W*X + b -> sau đó cho vô biến đổi softmax\n",
        "    return softmax(tf.matmul(tf.reshape(X, (-1, W.shape[0])), W) + b)\n",
        "# Hàm trên sẽ trả về y_hat"
      ],
      "execution_count": null,
      "outputs": []
    },
    {
      "cell_type": "markdown",
      "metadata": {
        "origin_pos": 20,
        "id": "0ih4xJnIPYKG"
      },
      "source": [
        "## Defining the Loss Function\n",
        "\n",
        "Next, we need to implement the cross-entropy loss function,\n",
        "as introduced in :numref:`sec_softmax`.\n",
        "This may be the most common loss function\n",
        "in all of deep learning because, at the moment,\n",
        "classification problems far outnumber regression problems.\n",
        "\n",
        "Recall that cross-entropy takes the negative log-likelihood\n",
        "of the predicted probability assigned to the true label.\n",
        "Rather than iterating over the predictions with a Python for-loop\n",
        "(which tends to be inefficient),\n",
        "we can pick all elements by a single operator.\n",
        "Below, we create a toy data `y_hat`\n",
        "with 2 examples of predicted probabilities over 3 classes.\n",
        "Then we pick the probability of the first class in the first example\n",
        "and the probability of the third class in the second example.\n"
      ]
    },
    {
      "cell_type": "code",
      "metadata": {
        "origin_pos": 22,
        "tab": [
          "tensorflow"
        ],
        "id": "gNqOLMnePYKG",
        "colab": {
          "base_uri": "https://localhost:8080/"
        },
        "outputId": "d1e3c21d-1787-429f-cfc4-4c486a7d23ea"
      },
      "source": [
        "y_hat = tf.constant([[0.1, 0.3, 0.6], [0.3, 0.2, 0.5]]) # Khởi tạo ma trận y_hat để làm ví dụ, chứa xác suât được trả về sau khi qua softmax operation\n",
        "y = tf.constant([0, 2]) # Khởi tạo một vector y là vector chứa các class mà xi thuộc về\n",
        "tf.boolean_mask(y_hat, tf.one_hot(y, depth=y_hat.shape[-1])) # Lấy ra giá trị ứng với onehot theo y từ y_hat"
      ],
      "execution_count": null,
      "outputs": [
        {
          "output_type": "execute_result",
          "data": {
            "text/plain": [
              "<tf.Tensor: shape=(2,), dtype=float32, numpy=array([0.1, 0.5], dtype=float32)>"
            ]
          },
          "metadata": {
            "tags": []
          },
          "execution_count": 56
        }
      ]
    },
    {
      "cell_type": "markdown",
      "metadata": {
        "origin_pos": 23,
        "id": "JvC0iUCJPYKG"
      },
      "source": [
        "Now we can implement the cross-entropy loss function efficiently with just one line of code.\n"
      ]
    },
    {
      "cell_type": "code",
      "metadata": {
        "origin_pos": 25,
        "tab": [
          "tensorflow"
        ],
        "id": "8bcRHWKUPYKG",
        "colab": {
          "base_uri": "https://localhost:8080/"
        },
        "outputId": "fe5d92f9-c775-4242-ae7a-1ccab09c1169"
      },
      "source": [
        "def cross_entropy(y_hat, y): # Tính cross entropy\n",
        "    return -tf.math.log(tf.boolean_mask(\n",
        "        y_hat, tf.one_hot(y, depth=y_hat.shape[-1])))\n",
        "# Trả về - log của xác suất onehot\n",
        "cross_entropy(y_hat, y)\n",
        "# Nhận xét: xác suất càng nhỏ thì entropy loss càng lớn"
      ],
      "execution_count": null,
      "outputs": [
        {
          "output_type": "execute_result",
          "data": {
            "text/plain": [
              "<tf.Tensor: shape=(2,), dtype=float32, numpy=array([2.3025851, 0.6931472], dtype=float32)>"
            ]
          },
          "metadata": {
            "tags": []
          },
          "execution_count": 57
        }
      ]
    },
    {
      "cell_type": "markdown",
      "metadata": {
        "origin_pos": 26,
        "id": "D_bLFCAaPYKH"
      },
      "source": [
        "## Classification Accuracy\n",
        "\n",
        "Given the predicted probability distribution `y_hat`,\n",
        "we typically choose the class with the highest predicted probability\n",
        "whenever we must output a hard prediction.\n",
        "Indeed, many applications require that we make a choice.\n",
        "Gmail must categorize an email into \"Primary\", \"Social\", \"Updates\", or \"Forums\".\n",
        "It might estimate probabilities internally,\n",
        "but at the end of the day it has to choose one among the classes.\n",
        "\n",
        "When predictions are consistent with the label class `y`, they are correct.\n",
        "The classification accuracy is the fraction of all predictions that are correct.\n",
        "Although it can be difficult to optimize accuracy directly (it is not differentiable),\n",
        "it is often the performance measure that we care most about,\n",
        "and we will nearly always report it when training classifiers.\n",
        "\n",
        "To compute accuracy we do the following.\n",
        "First, if `y_hat` is a matrix,\n",
        "we assume that the second dimension stores prediction scores for each class.\n",
        "We use `argmax` to obtain the predicted class by the index for the largest entry in each row.\n",
        "Then we compare the predicted class with the ground-truth `y` elementwise.\n",
        "Since the equality operator `==` is sensitive to data types,\n",
        "we convert `y_hat`'s data type to match that of `y`.\n",
        "The result is a tensor containing entries of 0 (false) and 1 (true).\n",
        "Taking the sum yields the number of correct predictions.\n"
      ]
    },
    {
      "cell_type": "code",
      "metadata": {
        "origin_pos": 27,
        "tab": [
          "tensorflow"
        ],
        "id": "7ayM8OkSPYKH"
      },
      "source": [
        "def accuracy(y_hat, y):  # Khởi tạo hàm tính độ chính xác của predicted_y (y_hat) so với output đúng (y)\n",
        "    \"\"\"Compute the number of correct predictions.\"\"\"\n",
        "    if len(y_hat.shape) > 1 and y_hat.shape[1] > 1:\n",
        "        y_hat = tf.argmax(y_hat, axis=1)  # Trả về vị trí mà số đó lớn nhất theo hàng\n",
        "    cmp = tf.cast(y_hat, y.dtype) == y # Chuyển kiểu dữ liệu của y_hat cho giống với y và trả về 1 mảng [True, False] cmp là y_hat == y hay không?\n",
        "    return float(tf.reduce_sum(tf.cast(cmp, y.dtype))) # Đếm số lượng True "
      ],
      "execution_count": null,
      "outputs": []
    },
    {
      "cell_type": "markdown",
      "metadata": {
        "origin_pos": 28,
        "id": "aTC9_v9GPYKH"
      },
      "source": [
        "We will continue to use the variables `y_hat` and `y`\n",
        "defined before\n",
        "as the predicted probability distributions and labels, respectively.\n",
        "We can see that the first example's prediction class is 2\n",
        "(the largest element of the row is 0.6 with the index 2),\n",
        "which is inconsistent with the actual label, 0.\n",
        "The second example's prediction class is 2\n",
        "(the largest element of the row is 0.5 with the index of 2),\n",
        "which is consistent with the actual label, 2.\n",
        "Therefore, the classification accuracy rate for these two examples is 0.5.\n"
      ]
    },
    {
      "cell_type": "code",
      "metadata": {
        "origin_pos": 29,
        "tab": [
          "tensorflow"
        ],
        "id": "krlaqd-4PYKH",
        "colab": {
          "base_uri": "https://localhost:8080/"
        },
        "outputId": "c10b5c66-b6f4-4d1a-e473-35ac31f04a0a"
      },
      "source": [
        "accuracy(y_hat, y) / len(y) # trả về độ chính xác của y_hat so với y"
      ],
      "execution_count": null,
      "outputs": [
        {
          "output_type": "execute_result",
          "data": {
            "text/plain": [
              "0.5"
            ]
          },
          "metadata": {
            "tags": []
          },
          "execution_count": 59
        }
      ]
    },
    {
      "cell_type": "markdown",
      "metadata": {
        "origin_pos": 30,
        "id": "-z4d8qYxPYKH"
      },
      "source": [
        "Similarly, we can evaluate the accuracy for any model `net` on a dataset\n",
        "that is accessed via the data iterator `data_iter`.\n"
      ]
    },
    {
      "cell_type": "code",
      "metadata": {
        "origin_pos": 31,
        "tab": [
          "tensorflow"
        ],
        "id": "DLNpIWZNPYKH"
      },
      "source": [
        "def evaluate_accuracy(net, data_iter):  # Hàm tính độ chính xác của model trên bộ data test\n",
        "    \"\"\"Compute the accuracy for a model on a dataset.\"\"\"\n",
        "    metric = Accumulator(2)  # Khai báo biến metric dùng để tính toán độ chính xác (biến metric có thể coi như là một bộ đếm tổng của n tập với n = 2 trong trường hợp này để lưu độ chính xác và kích thước y)\n",
        "    for X, y in data_iter: \n",
        "        metric.add(accuracy(net(X), y), tf.size(y).numpy()) # Gọi hàm để cộng vô các thành phần trong metric\n",
        "    return metric[0] / metric[1] # trả về độ chính xác = metric[0] / metric[1] (tổng accuracy chia cho số ảnh)"
      ],
      "execution_count": null,
      "outputs": []
    },
    {
      "cell_type": "markdown",
      "metadata": {
        "origin_pos": 33,
        "id": "yfGE9PmoPYKH"
      },
      "source": [
        "Here `Accumulator` is a utility class to accumulate sums over multiple variables.\n",
        "In the above `evaluate_accuracy` function,\n",
        "we create 2 variables in the `Accumulator` instance for storing both\n",
        "the number of correct predictions and the number of predictions, respectively.\n",
        "Both will be accumulated over time as we iterate over the dataset.\n"
      ]
    },
    {
      "cell_type": "code",
      "metadata": {
        "origin_pos": 34,
        "tab": [
          "tensorflow"
        ],
        "id": "Yy170DbNPYKH"
      },
      "source": [
        "class Accumulator:  # Khởi tạo class Accumulator\n",
        "    \"\"\"For accumulating sums over `n` variables.\"\"\"\n",
        "    def __init__(self, n):  # overide lại method __init__\n",
        "        self.data = [0.0] * n # Tạo một mảng n chiều\n",
        "\n",
        "    def add(self, *args): # *arg để truyển vào một list các arguments \n",
        "        self.data = [a + float(b) for a, b in zip(self.data, args)] # Hàm add này sẽ cộng element-wise data[i] hiện có với args thêm vào\n",
        "\n",
        "    def reset(self):\n",
        "        self.data = [0.0] * len(self.data) # reset mảng data về 0 như ban đầu\n",
        "\n",
        "    def __getitem__(self, idx):\n",
        "        return self.data[idx] # lấy item tại index idx"
      ],
      "execution_count": null,
      "outputs": []
    },
    {
      "cell_type": "markdown",
      "metadata": {
        "origin_pos": 35,
        "id": "eu11FKZsPYKH"
      },
      "source": [
        "Because we initialized the `net` model with random weights,\n",
        "the accuracy of this model should be close to random guessing,\n",
        "i.e., 0.1 for 10 classes.\n"
      ]
    },
    {
      "cell_type": "code",
      "metadata": {
        "origin_pos": 36,
        "tab": [
          "tensorflow"
        ],
        "id": "OwGY8fBWPYKH",
        "colab": {
          "base_uri": "https://localhost:8080/"
        },
        "outputId": "ba05e258-c87a-48a5-cb12-008c704ab810"
      },
      "source": [
        "evaluate_accuracy(net, test_iter) # Tính độ chính xác trên bộ data test"
      ],
      "execution_count": null,
      "outputs": [
        {
          "output_type": "execute_result",
          "data": {
            "text/plain": [
              "0.0694"
            ]
          },
          "metadata": {
            "tags": []
          },
          "execution_count": 62
        }
      ]
    },
    {
      "cell_type": "markdown",
      "metadata": {
        "origin_pos": 37,
        "id": "aCrpukV5PYKI"
      },
      "source": [
        "## Training\n",
        "\n",
        "The training loop for softmax regression should look strikingly familiar\n",
        "if you read through our implementation\n",
        "of linear regression in :numref:`sec_linear_scratch`.\n",
        "Here we refactor the implementation to make it reusable.\n",
        "First, we define a function to train for one epoch.\n",
        "Note that `updater` is a general function to update the model parameters,\n",
        "which accepts the batch size as an argument.\n",
        "It can be either a wrapper of the `d2l.sgd` function\n",
        "or a framework's built-in optimization function.\n"
      ]
    },
    {
      "cell_type": "code",
      "metadata": {
        "origin_pos": 40,
        "tab": [
          "tensorflow"
        ],
        "id": "w0GSh_E1PYKI"
      },
      "source": [
        "def train_epoch_ch3(net, train_iter, loss, updater):  #@save\n",
        "    \"\"\"The training loop defined in Chapter 3.\"\"\"\n",
        "    # Sum of training loss, sum of training accuracy, no. of examples\n",
        "    # Khai báo metric để tính toán training accuracy và loss\n",
        "    metric = Accumulator(3)\n",
        "    for X, y in train_iter:\n",
        "        # Compute gradients and update parameters\n",
        "        # Tính đạo hàm và cập nhật parameters \n",
        "        with tf.GradientTape() as tape:\n",
        "            y_hat = net(X)\n",
        "            # Keras implementations for loss takes (labels, predictions)\n",
        "            # instead of (predictions, labels) that users might implement\n",
        "            # in this book, e.g. `cross_entropy` that we implemented above\n",
        "            if isinstance(loss, tf.keras.losses.Loss): # Kiểm tra xem loss đã đúng kiểu dữ liệu chưa\n",
        "                l = loss(y, y_hat)\n",
        "            else:\n",
        "                l = loss(y_hat, y)\n",
        "        if isinstance(updater, tf.keras.optimizers.Optimizer): # Kiểm tra xem updater đã đúng kiểu dữ liệu chưa \n",
        "            params = net.trainable_variables                   # Nếu đúng kiểu dữ liệu thì sẽ gọi từ thư viện\n",
        "            grads = tape.gradient(l, params)                   # Tính đạo hàm hàm loss theo các tham số\n",
        "            updater.apply_gradients(zip(grads, params))        # Gọi updater để cập nhật giá trị của W\n",
        "        else:\n",
        "            updater(X.shape[0], tape.gradient(l, updater.params)) # Gọi updater để cập nhật giá trị của W\n",
        "        # Keras loss by default returns the average loss in a batch\n",
        "        l_sum = l * float(tf.size(y)) if isinstance(        # tính tổng loss\n",
        "            loss, tf.keras.losses.Loss) else tf.reduce_sum(l)\n",
        "        metric.add(l_sum, accuracy(y_hat, y), tf.size(y)) # Thêm tổng loss, tổng accuracy và số lượng ảnh ứng với mỗi minibatch vào metric\n",
        "    # Return training loss and training accuracy\n",
        "    return metric[0] / metric[2], metric[1] / metric[2] # trả về training loss và training accuracy"
      ],
      "execution_count": null,
      "outputs": []
    },
    {
      "cell_type": "markdown",
      "metadata": {
        "origin_pos": 41,
        "id": "85sXiyeUPYKI"
      },
      "source": [
        "Before showing the implementation of the training function,\n",
        "we define a utility class that plot data in animation.\n",
        "Again, it aims to simplify code in the rest of the book.\n"
      ]
    },
    {
      "cell_type": "code",
      "metadata": {
        "origin_pos": 42,
        "tab": [
          "tensorflow"
        ],
        "id": "QZc79EF0PYKI"
      },
      "source": [
        "class Animator:  #@save\n",
        "    \"\"\"For plotting data in animation.\"\"\"\n",
        "    def __init__(self, xlabel=None, ylabel=None, legend=None, xlim=None,\n",
        "                 ylim=None, xscale='linear', yscale='linear',\n",
        "                 fmts=('-', 'm--', 'g-.', 'r:'), nrows=1, ncols=1,\n",
        "                 figsize=(3.5, 2.5)):\n",
        "        '''\n",
        "            xlabel, ylabel: tên trục x, tên trục y\n",
        "            legend: có chú thích hay không\n",
        "            xscale, yscale: cách scale trục x và trục y\n",
        "            fmt: định dạng các đường đồ thị\n",
        "            xlim, ylim: giới hạn độ dài của các trục x, trục y\n",
        "        '''\n",
        "        # Incrementally plot multiple lines\n",
        "        if legend is None:\n",
        "            legend = []\n",
        "        d2l.use_svg_display() # hiển thị dưới dạng svg\n",
        "        self.fig, self.axes = d2l.plt.subplots(nrows, ncols, figsize=figsize) # chia plot thành fig và axes\n",
        "        if nrows * ncols == 1:\n",
        "            self.axes = [self.axes, ]\n",
        "        # Use a lambda function to capture arguments\n",
        "        # tạo lamda function để config đồ thị\n",
        "        self.config_axes = lambda: d2l.set_axes(\n",
        "            self.axes[0], xlabel, ylabel, xlim, ylim, xscale, yscale, legend)\n",
        "        self.X, self.Y, self.fmts = None, None, fmts\n",
        "\n",
        "    def add(self, x, y):\n",
        "        # Add multiple data points into the figure\n",
        "        if not hasattr(y, \"__len__\"): # Nếu y không có thuộc tính len \n",
        "            y = [y]                    \n",
        "        n = len(y)  # Gán n bằng len y\n",
        "        if not hasattr(x, \"__len__\"):\n",
        "            x = [x] * n  # làm cho biến x có số lượng phần tử = y để cho phép zip bên dưới\n",
        "        if not self.X:\n",
        "            self.X = [[] for _ in range(n)] \n",
        "        if not self.Y:\n",
        "            self.Y = [[] for _ in range(n)]\n",
        "        for i, (a, b) in enumerate(zip(x, y)): # zip dùng để duyệt 2 mảng cùng lúc\n",
        "            if a is not None and b is not None: # enumerate dùng để thêm index cho phần tử duyệt\n",
        "                self.X[i].append(a) # Gắn thêm cách dữ kiện vào X để vẽ plot\n",
        "                self.Y[i].append(b) # # Gắn thêm cách dữ kiện vào Y để vẽ plot\n",
        "        self.axes[0].cla() # xóa axe hiện tại\n",
        "        for x, y, fmt in zip(self.X, self.Y, self.fmts): # với mỗi đường trong X sẽ tạo một cái đoạn thẳng trên cái plot -> kéo dài đoạn cũ\n",
        "            self.axes[0].plot(x, y, fmt)\n",
        "        self.config_axes()  # Config đồ thị \n",
        "        display.display(self.fig) # Hiển thị plot mới\n",
        "        display.clear_output(wait=True) # Để tự động xóa plot cũ, update plot mới"
      ],
      "execution_count": null,
      "outputs": []
    },
    {
      "cell_type": "markdown",
      "metadata": {
        "origin_pos": 43,
        "id": "6BbdvJkgPYKI"
      },
      "source": [
        "The following training function then\n",
        "trains a model `net` on a training dataset accessed via `train_iter`\n",
        "for multiple epochs, which is specified by `num_epochs`.\n",
        "At the end of each epoch,\n",
        "the model is evaluated on a testing dataset accessed via `test_iter`.\n",
        "We will leverage the `Animator` class to visualize\n",
        "the training progress.\n"
      ]
    },
    {
      "cell_type": "code",
      "metadata": {
        "origin_pos": 44,
        "tab": [
          "tensorflow"
        ],
        "id": "eK7NYeouPYKI"
      },
      "source": [
        "def train_ch3(net, train_iter, test_iter, loss, num_epochs, updater):  #@save\n",
        "    \"\"\"Train a model (defined in Chapter 3).\"\"\"\n",
        "    animator = Animator(xlabel='epoch', xlim=[1, num_epochs], ylim=[0.3, 0.9], # Khai báo animator\n",
        "                        legend=['train loss', 'train acc', 'test acc'])\n",
        "    for epoch in range(num_epochs):  # Với mỗi epoch\n",
        "        train_metrics = train_epoch_ch3(net, train_iter, loss, updater) # nhận về loss và accuracy của quá trình train\n",
        "        test_acc = evaluate_accuracy(net, test_iter)    # nhận về accuracy của model trên tập test\n",
        "        animator.add(epoch + 1, train_metrics + (test_acc,)) # Cập nhật animator để vẽ đồ thị\n",
        "    train_loss, train_acc = train_metrics\n",
        "    assert train_loss < 0.5, train_loss # đảm bảo training loss < 0.5 -> Nếu không sẽ quăng Error báo lỗi\n",
        "    assert train_acc <= 1 and train_acc > 0.7, train_acc # đảm bảo 0.7 < training Ac < 1 -> Nếu không sẽ quăng Error báo lỗi\n",
        "    assert test_acc <= 1 and test_acc > 0.7, test_acc # đảm bảo 0.7 < test ac < 1 -> Nếu không sẽ quăng Error báo lỗi"
      ],
      "execution_count": null,
      "outputs": []
    },
    {
      "cell_type": "markdown",
      "metadata": {
        "origin_pos": 45,
        "id": "VcvzXLEoPYKI"
      },
      "source": [
        "As an implementation from scratch,\n",
        "we use the minibatch stochastic gradient descent defined in :numref:`sec_linear_scratch`\n",
        "to optimize the loss function of the model with a learning rate 0.1.\n"
      ]
    },
    {
      "cell_type": "code",
      "metadata": {
        "origin_pos": 47,
        "tab": [
          "tensorflow"
        ],
        "id": "kXBJruASPYKI"
      },
      "source": [
        "class Updater():  # Định nghĩa class Updater()\n",
        "    \"\"\"For updating parameters using minibatch stochastic gradient descent.\"\"\"\n",
        "    def __init__(self, params, lr): # Khởi tạo tham số và learning rate\n",
        "        self.params = params\n",
        "        self.lr = lr\n",
        "\n",
        "    def __call__(self, batch_size, grads): \n",
        "        d2l.sgd(self.params, grads, self.lr, batch_size) # Tính minibatch stochastic gradient descent\n",
        "\n",
        "updater = Updater([W, b], lr=0.1) # khai báo updater với biến tham số đầu vào là [W, b] và learning rate = 0.1"
      ],
      "execution_count": null,
      "outputs": []
    },
    {
      "cell_type": "markdown",
      "metadata": {
        "origin_pos": 48,
        "id": "hil7dPz6PYKI"
      },
      "source": [
        "Now we train the model with 10 epochs.\n",
        "Note that both the number of epochs (`num_epochs`),\n",
        "and learning rate (`lr`) are adjustable hyperparameters.\n",
        "By changing their values, we may be able\n",
        "to increase the classification accuracy of the model.\n"
      ]
    },
    {
      "cell_type": "code",
      "metadata": {
        "origin_pos": 49,
        "tab": [
          "tensorflow"
        ],
        "id": "5a6vtus1PYKI",
        "colab": {
          "base_uri": "https://localhost:8080/",
          "height": 262
        },
        "outputId": "088087d6-f040-4468-fe7d-7e2b1b409c98"
      },
      "source": [
        "num_epochs = 10 # Số training epochs (môi epoch thì sẽ duyệt qua toàn bộ mini-batch)\n",
        "train_ch3(net, train_iter, test_iter, cross_entropy, num_epochs, updater) # Bắt đầu train "
      ],
      "execution_count": null,
      "outputs": [
        {
          "output_type": "display_data",
          "data": {
            "text/plain": [
              "<Figure size 252x180 with 1 Axes>"
            ],
            "image/svg+xml": "<?xml version=\"1.0\" encoding=\"utf-8\" standalone=\"no\"?>\n<!DOCTYPE svg PUBLIC \"-//W3C//DTD SVG 1.1//EN\"\n  \"http://www.w3.org/Graphics/SVG/1.1/DTD/svg11.dtd\">\n<!-- Created with matplotlib (https://matplotlib.org/) -->\n<svg height=\"180.65625pt\" version=\"1.1\" viewBox=\"0 0 238.965625 180.65625\" width=\"238.965625pt\" xmlns=\"http://www.w3.org/2000/svg\" xmlns:xlink=\"http://www.w3.org/1999/xlink\">\n <defs>\n  <style type=\"text/css\">\n*{stroke-linecap:butt;stroke-linejoin:round;}\n  </style>\n </defs>\n <g id=\"figure_1\">\n  <g id=\"patch_1\">\n   <path d=\"M 0 180.65625 \nL 238.965625 180.65625 \nL 238.965625 0 \nL 0 0 \nz\n\" style=\"fill:none;\"/>\n  </g>\n  <g id=\"axes_1\">\n   <g id=\"patch_2\">\n    <path d=\"M 30.103125 143.1 \nL 225.403125 143.1 \nL 225.403125 7.2 \nL 30.103125 7.2 \nz\n\" style=\"fill:#ffffff;\"/>\n   </g>\n   <g id=\"matplotlib.axis_1\">\n    <g id=\"xtick_1\">\n     <g id=\"line2d_1\">\n      <path clip-path=\"url(#pd4b9338241)\" d=\"M 51.803125 143.1 \nL 51.803125 7.2 \n\" style=\"fill:none;stroke:#b0b0b0;stroke-linecap:square;stroke-width:0.8;\"/>\n     </g>\n     <g id=\"line2d_2\">\n      <defs>\n       <path d=\"M 0 0 \nL 0 3.5 \n\" id=\"mbe58e393b9\" style=\"stroke:#000000;stroke-width:0.8;\"/>\n      </defs>\n      <g>\n       <use style=\"stroke:#000000;stroke-width:0.8;\" x=\"51.803125\" xlink:href=\"#mbe58e393b9\" y=\"143.1\"/>\n      </g>\n     </g>\n     <g id=\"text_1\">\n      <!-- 2 -->\n      <defs>\n       <path d=\"M 19.1875 8.296875 \nL 53.609375 8.296875 \nL 53.609375 0 \nL 7.328125 0 \nL 7.328125 8.296875 \nQ 12.9375 14.109375 22.625 23.890625 \nQ 32.328125 33.6875 34.8125 36.53125 \nQ 39.546875 41.84375 41.421875 45.53125 \nQ 43.3125 49.21875 43.3125 52.78125 \nQ 43.3125 58.59375 39.234375 62.25 \nQ 35.15625 65.921875 28.609375 65.921875 \nQ 23.96875 65.921875 18.8125 64.3125 \nQ 13.671875 62.703125 7.8125 59.421875 \nL 7.8125 69.390625 \nQ 13.765625 71.78125 18.9375 73 \nQ 24.125 74.21875 28.421875 74.21875 \nQ 39.75 74.21875 46.484375 68.546875 \nQ 53.21875 62.890625 53.21875 53.421875 \nQ 53.21875 48.921875 51.53125 44.890625 \nQ 49.859375 40.875 45.40625 35.40625 \nQ 44.1875 33.984375 37.640625 27.21875 \nQ 31.109375 20.453125 19.1875 8.296875 \nz\n\" id=\"DejaVuSans-50\"/>\n      </defs>\n      <g transform=\"translate(48.621875 157.698438)scale(0.1 -0.1)\">\n       <use xlink:href=\"#DejaVuSans-50\"/>\n      </g>\n     </g>\n    </g>\n    <g id=\"xtick_2\">\n     <g id=\"line2d_3\">\n      <path clip-path=\"url(#pd4b9338241)\" d=\"M 95.203125 143.1 \nL 95.203125 7.2 \n\" style=\"fill:none;stroke:#b0b0b0;stroke-linecap:square;stroke-width:0.8;\"/>\n     </g>\n     <g id=\"line2d_4\">\n      <g>\n       <use style=\"stroke:#000000;stroke-width:0.8;\" x=\"95.203125\" xlink:href=\"#mbe58e393b9\" y=\"143.1\"/>\n      </g>\n     </g>\n     <g id=\"text_2\">\n      <!-- 4 -->\n      <defs>\n       <path d=\"M 37.796875 64.3125 \nL 12.890625 25.390625 \nL 37.796875 25.390625 \nz\nM 35.203125 72.90625 \nL 47.609375 72.90625 \nL 47.609375 25.390625 \nL 58.015625 25.390625 \nL 58.015625 17.1875 \nL 47.609375 17.1875 \nL 47.609375 0 \nL 37.796875 0 \nL 37.796875 17.1875 \nL 4.890625 17.1875 \nL 4.890625 26.703125 \nz\n\" id=\"DejaVuSans-52\"/>\n      </defs>\n      <g transform=\"translate(92.021875 157.698438)scale(0.1 -0.1)\">\n       <use xlink:href=\"#DejaVuSans-52\"/>\n      </g>\n     </g>\n    </g>\n    <g id=\"xtick_3\">\n     <g id=\"line2d_5\">\n      <path clip-path=\"url(#pd4b9338241)\" d=\"M 138.603125 143.1 \nL 138.603125 7.2 \n\" style=\"fill:none;stroke:#b0b0b0;stroke-linecap:square;stroke-width:0.8;\"/>\n     </g>\n     <g id=\"line2d_6\">\n      <g>\n       <use style=\"stroke:#000000;stroke-width:0.8;\" x=\"138.603125\" xlink:href=\"#mbe58e393b9\" y=\"143.1\"/>\n      </g>\n     </g>\n     <g id=\"text_3\">\n      <!-- 6 -->\n      <defs>\n       <path d=\"M 33.015625 40.375 \nQ 26.375 40.375 22.484375 35.828125 \nQ 18.609375 31.296875 18.609375 23.390625 \nQ 18.609375 15.53125 22.484375 10.953125 \nQ 26.375 6.390625 33.015625 6.390625 \nQ 39.65625 6.390625 43.53125 10.953125 \nQ 47.40625 15.53125 47.40625 23.390625 \nQ 47.40625 31.296875 43.53125 35.828125 \nQ 39.65625 40.375 33.015625 40.375 \nz\nM 52.59375 71.296875 \nL 52.59375 62.3125 \nQ 48.875 64.0625 45.09375 64.984375 \nQ 41.3125 65.921875 37.59375 65.921875 \nQ 27.828125 65.921875 22.671875 59.328125 \nQ 17.53125 52.734375 16.796875 39.40625 \nQ 19.671875 43.65625 24.015625 45.921875 \nQ 28.375 48.1875 33.59375 48.1875 \nQ 44.578125 48.1875 50.953125 41.515625 \nQ 57.328125 34.859375 57.328125 23.390625 \nQ 57.328125 12.15625 50.6875 5.359375 \nQ 44.046875 -1.421875 33.015625 -1.421875 \nQ 20.359375 -1.421875 13.671875 8.265625 \nQ 6.984375 17.96875 6.984375 36.375 \nQ 6.984375 53.65625 15.1875 63.9375 \nQ 23.390625 74.21875 37.203125 74.21875 \nQ 40.921875 74.21875 44.703125 73.484375 \nQ 48.484375 72.75 52.59375 71.296875 \nz\n\" id=\"DejaVuSans-54\"/>\n      </defs>\n      <g transform=\"translate(135.421875 157.698438)scale(0.1 -0.1)\">\n       <use xlink:href=\"#DejaVuSans-54\"/>\n      </g>\n     </g>\n    </g>\n    <g id=\"xtick_4\">\n     <g id=\"line2d_7\">\n      <path clip-path=\"url(#pd4b9338241)\" d=\"M 182.003125 143.1 \nL 182.003125 7.2 \n\" style=\"fill:none;stroke:#b0b0b0;stroke-linecap:square;stroke-width:0.8;\"/>\n     </g>\n     <g id=\"line2d_8\">\n      <g>\n       <use style=\"stroke:#000000;stroke-width:0.8;\" x=\"182.003125\" xlink:href=\"#mbe58e393b9\" y=\"143.1\"/>\n      </g>\n     </g>\n     <g id=\"text_4\">\n      <!-- 8 -->\n      <defs>\n       <path d=\"M 31.78125 34.625 \nQ 24.75 34.625 20.71875 30.859375 \nQ 16.703125 27.09375 16.703125 20.515625 \nQ 16.703125 13.921875 20.71875 10.15625 \nQ 24.75 6.390625 31.78125 6.390625 \nQ 38.8125 6.390625 42.859375 10.171875 \nQ 46.921875 13.96875 46.921875 20.515625 \nQ 46.921875 27.09375 42.890625 30.859375 \nQ 38.875 34.625 31.78125 34.625 \nz\nM 21.921875 38.8125 \nQ 15.578125 40.375 12.03125 44.71875 \nQ 8.5 49.078125 8.5 55.328125 \nQ 8.5 64.0625 14.71875 69.140625 \nQ 20.953125 74.21875 31.78125 74.21875 \nQ 42.671875 74.21875 48.875 69.140625 \nQ 55.078125 64.0625 55.078125 55.328125 \nQ 55.078125 49.078125 51.53125 44.71875 \nQ 48 40.375 41.703125 38.8125 \nQ 48.828125 37.15625 52.796875 32.3125 \nQ 56.78125 27.484375 56.78125 20.515625 \nQ 56.78125 9.90625 50.3125 4.234375 \nQ 43.84375 -1.421875 31.78125 -1.421875 \nQ 19.734375 -1.421875 13.25 4.234375 \nQ 6.78125 9.90625 6.78125 20.515625 \nQ 6.78125 27.484375 10.78125 32.3125 \nQ 14.796875 37.15625 21.921875 38.8125 \nz\nM 18.3125 54.390625 \nQ 18.3125 48.734375 21.84375 45.5625 \nQ 25.390625 42.390625 31.78125 42.390625 \nQ 38.140625 42.390625 41.71875 45.5625 \nQ 45.3125 48.734375 45.3125 54.390625 \nQ 45.3125 60.0625 41.71875 63.234375 \nQ 38.140625 66.40625 31.78125 66.40625 \nQ 25.390625 66.40625 21.84375 63.234375 \nQ 18.3125 60.0625 18.3125 54.390625 \nz\n\" id=\"DejaVuSans-56\"/>\n      </defs>\n      <g transform=\"translate(178.821875 157.698438)scale(0.1 -0.1)\">\n       <use xlink:href=\"#DejaVuSans-56\"/>\n      </g>\n     </g>\n    </g>\n    <g id=\"xtick_5\">\n     <g id=\"line2d_9\">\n      <path clip-path=\"url(#pd4b9338241)\" d=\"M 225.403125 143.1 \nL 225.403125 7.2 \n\" style=\"fill:none;stroke:#b0b0b0;stroke-linecap:square;stroke-width:0.8;\"/>\n     </g>\n     <g id=\"line2d_10\">\n      <g>\n       <use style=\"stroke:#000000;stroke-width:0.8;\" x=\"225.403125\" xlink:href=\"#mbe58e393b9\" y=\"143.1\"/>\n      </g>\n     </g>\n     <g id=\"text_5\">\n      <!-- 10 -->\n      <defs>\n       <path d=\"M 12.40625 8.296875 \nL 28.515625 8.296875 \nL 28.515625 63.921875 \nL 10.984375 60.40625 \nL 10.984375 69.390625 \nL 28.421875 72.90625 \nL 38.28125 72.90625 \nL 38.28125 8.296875 \nL 54.390625 8.296875 \nL 54.390625 0 \nL 12.40625 0 \nz\n\" id=\"DejaVuSans-49\"/>\n       <path d=\"M 31.78125 66.40625 \nQ 24.171875 66.40625 20.328125 58.90625 \nQ 16.5 51.421875 16.5 36.375 \nQ 16.5 21.390625 20.328125 13.890625 \nQ 24.171875 6.390625 31.78125 6.390625 \nQ 39.453125 6.390625 43.28125 13.890625 \nQ 47.125 21.390625 47.125 36.375 \nQ 47.125 51.421875 43.28125 58.90625 \nQ 39.453125 66.40625 31.78125 66.40625 \nz\nM 31.78125 74.21875 \nQ 44.046875 74.21875 50.515625 64.515625 \nQ 56.984375 54.828125 56.984375 36.375 \nQ 56.984375 17.96875 50.515625 8.265625 \nQ 44.046875 -1.421875 31.78125 -1.421875 \nQ 19.53125 -1.421875 13.0625 8.265625 \nQ 6.59375 17.96875 6.59375 36.375 \nQ 6.59375 54.828125 13.0625 64.515625 \nQ 19.53125 74.21875 31.78125 74.21875 \nz\n\" id=\"DejaVuSans-48\"/>\n      </defs>\n      <g transform=\"translate(219.040625 157.698438)scale(0.1 -0.1)\">\n       <use xlink:href=\"#DejaVuSans-49\"/>\n       <use x=\"63.623047\" xlink:href=\"#DejaVuSans-48\"/>\n      </g>\n     </g>\n    </g>\n    <g id=\"text_6\">\n     <!-- epoch -->\n     <defs>\n      <path d=\"M 56.203125 29.59375 \nL 56.203125 25.203125 \nL 14.890625 25.203125 \nQ 15.484375 15.921875 20.484375 11.0625 \nQ 25.484375 6.203125 34.421875 6.203125 \nQ 39.59375 6.203125 44.453125 7.46875 \nQ 49.3125 8.734375 54.109375 11.28125 \nL 54.109375 2.78125 \nQ 49.265625 0.734375 44.1875 -0.34375 \nQ 39.109375 -1.421875 33.890625 -1.421875 \nQ 20.796875 -1.421875 13.15625 6.1875 \nQ 5.515625 13.8125 5.515625 26.8125 \nQ 5.515625 40.234375 12.765625 48.109375 \nQ 20.015625 56 32.328125 56 \nQ 43.359375 56 49.78125 48.890625 \nQ 56.203125 41.796875 56.203125 29.59375 \nz\nM 47.21875 32.234375 \nQ 47.125 39.59375 43.09375 43.984375 \nQ 39.0625 48.390625 32.421875 48.390625 \nQ 24.90625 48.390625 20.390625 44.140625 \nQ 15.875 39.890625 15.1875 32.171875 \nz\n\" id=\"DejaVuSans-101\"/>\n      <path d=\"M 18.109375 8.203125 \nL 18.109375 -20.796875 \nL 9.078125 -20.796875 \nL 9.078125 54.6875 \nL 18.109375 54.6875 \nL 18.109375 46.390625 \nQ 20.953125 51.265625 25.265625 53.625 \nQ 29.59375 56 35.59375 56 \nQ 45.5625 56 51.78125 48.09375 \nQ 58.015625 40.1875 58.015625 27.296875 \nQ 58.015625 14.40625 51.78125 6.484375 \nQ 45.5625 -1.421875 35.59375 -1.421875 \nQ 29.59375 -1.421875 25.265625 0.953125 \nQ 20.953125 3.328125 18.109375 8.203125 \nz\nM 48.6875 27.296875 \nQ 48.6875 37.203125 44.609375 42.84375 \nQ 40.53125 48.484375 33.40625 48.484375 \nQ 26.265625 48.484375 22.1875 42.84375 \nQ 18.109375 37.203125 18.109375 27.296875 \nQ 18.109375 17.390625 22.1875 11.75 \nQ 26.265625 6.109375 33.40625 6.109375 \nQ 40.53125 6.109375 44.609375 11.75 \nQ 48.6875 17.390625 48.6875 27.296875 \nz\n\" id=\"DejaVuSans-112\"/>\n      <path d=\"M 30.609375 48.390625 \nQ 23.390625 48.390625 19.1875 42.75 \nQ 14.984375 37.109375 14.984375 27.296875 \nQ 14.984375 17.484375 19.15625 11.84375 \nQ 23.34375 6.203125 30.609375 6.203125 \nQ 37.796875 6.203125 41.984375 11.859375 \nQ 46.1875 17.53125 46.1875 27.296875 \nQ 46.1875 37.015625 41.984375 42.703125 \nQ 37.796875 48.390625 30.609375 48.390625 \nz\nM 30.609375 56 \nQ 42.328125 56 49.015625 48.375 \nQ 55.71875 40.765625 55.71875 27.296875 \nQ 55.71875 13.875 49.015625 6.21875 \nQ 42.328125 -1.421875 30.609375 -1.421875 \nQ 18.84375 -1.421875 12.171875 6.21875 \nQ 5.515625 13.875 5.515625 27.296875 \nQ 5.515625 40.765625 12.171875 48.375 \nQ 18.84375 56 30.609375 56 \nz\n\" id=\"DejaVuSans-111\"/>\n      <path d=\"M 48.78125 52.59375 \nL 48.78125 44.1875 \nQ 44.96875 46.296875 41.140625 47.34375 \nQ 37.3125 48.390625 33.40625 48.390625 \nQ 24.65625 48.390625 19.8125 42.84375 \nQ 14.984375 37.3125 14.984375 27.296875 \nQ 14.984375 17.28125 19.8125 11.734375 \nQ 24.65625 6.203125 33.40625 6.203125 \nQ 37.3125 6.203125 41.140625 7.25 \nQ 44.96875 8.296875 48.78125 10.40625 \nL 48.78125 2.09375 \nQ 45.015625 0.34375 40.984375 -0.53125 \nQ 36.96875 -1.421875 32.421875 -1.421875 \nQ 20.0625 -1.421875 12.78125 6.34375 \nQ 5.515625 14.109375 5.515625 27.296875 \nQ 5.515625 40.671875 12.859375 48.328125 \nQ 20.21875 56 33.015625 56 \nQ 37.15625 56 41.109375 55.140625 \nQ 45.0625 54.296875 48.78125 52.59375 \nz\n\" id=\"DejaVuSans-99\"/>\n      <path d=\"M 54.890625 33.015625 \nL 54.890625 0 \nL 45.90625 0 \nL 45.90625 32.71875 \nQ 45.90625 40.484375 42.875 44.328125 \nQ 39.84375 48.1875 33.796875 48.1875 \nQ 26.515625 48.1875 22.3125 43.546875 \nQ 18.109375 38.921875 18.109375 30.90625 \nL 18.109375 0 \nL 9.078125 0 \nL 9.078125 75.984375 \nL 18.109375 75.984375 \nL 18.109375 46.1875 \nQ 21.34375 51.125 25.703125 53.5625 \nQ 30.078125 56 35.796875 56 \nQ 45.21875 56 50.046875 50.171875 \nQ 54.890625 44.34375 54.890625 33.015625 \nz\n\" id=\"DejaVuSans-104\"/>\n     </defs>\n     <g transform=\"translate(112.525 171.376563)scale(0.1 -0.1)\">\n      <use xlink:href=\"#DejaVuSans-101\"/>\n      <use x=\"61.523438\" xlink:href=\"#DejaVuSans-112\"/>\n      <use x=\"125\" xlink:href=\"#DejaVuSans-111\"/>\n      <use x=\"186.181641\" xlink:href=\"#DejaVuSans-99\"/>\n      <use x=\"241.162109\" xlink:href=\"#DejaVuSans-104\"/>\n     </g>\n    </g>\n   </g>\n   <g id=\"matplotlib.axis_2\">\n    <g id=\"ytick_1\">\n     <g id=\"line2d_11\">\n      <path clip-path=\"url(#pd4b9338241)\" d=\"M 30.103125 120.45 \nL 225.403125 120.45 \n\" style=\"fill:none;stroke:#b0b0b0;stroke-linecap:square;stroke-width:0.8;\"/>\n     </g>\n     <g id=\"line2d_12\">\n      <defs>\n       <path d=\"M 0 0 \nL -3.5 0 \n\" id=\"m486f528830\" style=\"stroke:#000000;stroke-width:0.8;\"/>\n      </defs>\n      <g>\n       <use style=\"stroke:#000000;stroke-width:0.8;\" x=\"30.103125\" xlink:href=\"#m486f528830\" y=\"120.45\"/>\n      </g>\n     </g>\n     <g id=\"text_7\">\n      <!-- 0.4 -->\n      <defs>\n       <path d=\"M 10.6875 12.40625 \nL 21 12.40625 \nL 21 0 \nL 10.6875 0 \nz\n\" id=\"DejaVuSans-46\"/>\n      </defs>\n      <g transform=\"translate(7.2 124.249219)scale(0.1 -0.1)\">\n       <use xlink:href=\"#DejaVuSans-48\"/>\n       <use x=\"63.623047\" xlink:href=\"#DejaVuSans-46\"/>\n       <use x=\"95.410156\" xlink:href=\"#DejaVuSans-52\"/>\n      </g>\n     </g>\n    </g>\n    <g id=\"ytick_2\">\n     <g id=\"line2d_13\">\n      <path clip-path=\"url(#pd4b9338241)\" d=\"M 30.103125 75.15 \nL 225.403125 75.15 \n\" style=\"fill:none;stroke:#b0b0b0;stroke-linecap:square;stroke-width:0.8;\"/>\n     </g>\n     <g id=\"line2d_14\">\n      <g>\n       <use style=\"stroke:#000000;stroke-width:0.8;\" x=\"30.103125\" xlink:href=\"#m486f528830\" y=\"75.15\"/>\n      </g>\n     </g>\n     <g id=\"text_8\">\n      <!-- 0.6 -->\n      <g transform=\"translate(7.2 78.949219)scale(0.1 -0.1)\">\n       <use xlink:href=\"#DejaVuSans-48\"/>\n       <use x=\"63.623047\" xlink:href=\"#DejaVuSans-46\"/>\n       <use x=\"95.410156\" xlink:href=\"#DejaVuSans-54\"/>\n      </g>\n     </g>\n    </g>\n    <g id=\"ytick_3\">\n     <g id=\"line2d_15\">\n      <path clip-path=\"url(#pd4b9338241)\" d=\"M 30.103125 29.85 \nL 225.403125 29.85 \n\" style=\"fill:none;stroke:#b0b0b0;stroke-linecap:square;stroke-width:0.8;\"/>\n     </g>\n     <g id=\"line2d_16\">\n      <g>\n       <use style=\"stroke:#000000;stroke-width:0.8;\" x=\"30.103125\" xlink:href=\"#m486f528830\" y=\"29.85\"/>\n      </g>\n     </g>\n     <g id=\"text_9\">\n      <!-- 0.8 -->\n      <g transform=\"translate(7.2 33.649219)scale(0.1 -0.1)\">\n       <use xlink:href=\"#DejaVuSans-48\"/>\n       <use x=\"63.623047\" xlink:href=\"#DejaVuSans-46\"/>\n       <use x=\"95.410156\" xlink:href=\"#DejaVuSans-56\"/>\n      </g>\n     </g>\n    </g>\n   </g>\n   <g id=\"line2d_17\">\n    <path clip-path=\"url(#pd4b9338241)\" d=\"M 30.103125 33.344774 \nL 51.803125 81.724958 \nL 73.503125 92.040297 \nL 95.203125 97.599075 \nL 116.903125 101.169835 \nL 138.603125 103.829309 \nL 160.303125 105.761877 \nL 182.003125 107.442698 \nL 203.703125 108.638809 \nL 225.403125 109.924818 \n\" style=\"fill:none;stroke:#1f77b4;stroke-linecap:square;stroke-width:1.5;\"/>\n   </g>\n   <g id=\"line2d_18\">\n    <path clip-path=\"url(#pd4b9338241)\" d=\"M 30.103125 41.586475 \nL 51.803125 26.886625 \nL 73.503125 23.994975 \nL 95.203125 22.4208 \nL 116.903125 21.4695 \nL 138.603125 20.665425 \nL 160.303125 20.14825 \nL 182.003125 19.7028 \nL 203.703125 19.442325 \nL 225.403125 18.827 \n\" style=\"fill:none;stroke:#bf00bf;stroke-dasharray:5.55,2.4;stroke-dashoffset:0;stroke-width:1.5;\"/>\n   </g>\n   <g id=\"line2d_19\">\n    <path clip-path=\"url(#pd4b9338241)\" d=\"M 30.103125 32.81715 \nL 51.803125 27.01875 \nL 73.503125 26.06745 \nL 95.203125 24.2781 \nL 116.903125 24.25545 \nL 138.603125 23.71185 \nL 160.303125 22.8738 \nL 182.003125 22.6926 \nL 203.703125 22.9191 \nL 225.403125 21.9225 \n\" style=\"fill:none;stroke:#008000;stroke-dasharray:9.6,2.4,1.5,2.4;stroke-dashoffset:0;stroke-width:1.5;\"/>\n   </g>\n   <g id=\"patch_3\">\n    <path d=\"M 30.103125 143.1 \nL 30.103125 7.2 \n\" style=\"fill:none;stroke:#000000;stroke-linecap:square;stroke-linejoin:miter;stroke-width:0.8;\"/>\n   </g>\n   <g id=\"patch_4\">\n    <path d=\"M 225.403125 143.1 \nL 225.403125 7.2 \n\" style=\"fill:none;stroke:#000000;stroke-linecap:square;stroke-linejoin:miter;stroke-width:0.8;\"/>\n   </g>\n   <g id=\"patch_5\">\n    <path d=\"M 30.103125 143.1 \nL 225.403125 143.1 \n\" style=\"fill:none;stroke:#000000;stroke-linecap:square;stroke-linejoin:miter;stroke-width:0.8;\"/>\n   </g>\n   <g id=\"patch_6\">\n    <path d=\"M 30.103125 7.2 \nL 225.403125 7.2 \n\" style=\"fill:none;stroke:#000000;stroke-linecap:square;stroke-linejoin:miter;stroke-width:0.8;\"/>\n   </g>\n   <g id=\"legend_1\">\n    <g id=\"patch_7\">\n     <path d=\"M 140.634375 98.667187 \nL 218.403125 98.667187 \nQ 220.403125 98.667187 220.403125 96.667187 \nL 220.403125 53.632812 \nQ 220.403125 51.632812 218.403125 51.632812 \nL 140.634375 51.632812 \nQ 138.634375 51.632812 138.634375 53.632812 \nL 138.634375 96.667187 \nQ 138.634375 98.667187 140.634375 98.667187 \nz\n\" style=\"fill:#ffffff;opacity:0.8;stroke:#cccccc;stroke-linejoin:miter;\"/>\n    </g>\n    <g id=\"line2d_20\">\n     <path d=\"M 142.634375 59.73125 \nL 162.634375 59.73125 \n\" style=\"fill:none;stroke:#1f77b4;stroke-linecap:square;stroke-width:1.5;\"/>\n    </g>\n    <g id=\"line2d_21\"/>\n    <g id=\"text_10\">\n     <!-- train loss -->\n     <defs>\n      <path d=\"M 18.3125 70.21875 \nL 18.3125 54.6875 \nL 36.8125 54.6875 \nL 36.8125 47.703125 \nL 18.3125 47.703125 \nL 18.3125 18.015625 \nQ 18.3125 11.328125 20.140625 9.421875 \nQ 21.96875 7.515625 27.59375 7.515625 \nL 36.8125 7.515625 \nL 36.8125 0 \nL 27.59375 0 \nQ 17.1875 0 13.234375 3.875 \nQ 9.28125 7.765625 9.28125 18.015625 \nL 9.28125 47.703125 \nL 2.6875 47.703125 \nL 2.6875 54.6875 \nL 9.28125 54.6875 \nL 9.28125 70.21875 \nz\n\" id=\"DejaVuSans-116\"/>\n      <path d=\"M 41.109375 46.296875 \nQ 39.59375 47.171875 37.8125 47.578125 \nQ 36.03125 48 33.890625 48 \nQ 26.265625 48 22.1875 43.046875 \nQ 18.109375 38.09375 18.109375 28.8125 \nL 18.109375 0 \nL 9.078125 0 \nL 9.078125 54.6875 \nL 18.109375 54.6875 \nL 18.109375 46.1875 \nQ 20.953125 51.171875 25.484375 53.578125 \nQ 30.03125 56 36.53125 56 \nQ 37.453125 56 38.578125 55.875 \nQ 39.703125 55.765625 41.0625 55.515625 \nz\n\" id=\"DejaVuSans-114\"/>\n      <path d=\"M 34.28125 27.484375 \nQ 23.390625 27.484375 19.1875 25 \nQ 14.984375 22.515625 14.984375 16.5 \nQ 14.984375 11.71875 18.140625 8.90625 \nQ 21.296875 6.109375 26.703125 6.109375 \nQ 34.1875 6.109375 38.703125 11.40625 \nQ 43.21875 16.703125 43.21875 25.484375 \nL 43.21875 27.484375 \nz\nM 52.203125 31.203125 \nL 52.203125 0 \nL 43.21875 0 \nL 43.21875 8.296875 \nQ 40.140625 3.328125 35.546875 0.953125 \nQ 30.953125 -1.421875 24.3125 -1.421875 \nQ 15.921875 -1.421875 10.953125 3.296875 \nQ 6 8.015625 6 15.921875 \nQ 6 25.140625 12.171875 29.828125 \nQ 18.359375 34.515625 30.609375 34.515625 \nL 43.21875 34.515625 \nL 43.21875 35.40625 \nQ 43.21875 41.609375 39.140625 45 \nQ 35.0625 48.390625 27.6875 48.390625 \nQ 23 48.390625 18.546875 47.265625 \nQ 14.109375 46.140625 10.015625 43.890625 \nL 10.015625 52.203125 \nQ 14.9375 54.109375 19.578125 55.046875 \nQ 24.21875 56 28.609375 56 \nQ 40.484375 56 46.34375 49.84375 \nQ 52.203125 43.703125 52.203125 31.203125 \nz\n\" id=\"DejaVuSans-97\"/>\n      <path d=\"M 9.421875 54.6875 \nL 18.40625 54.6875 \nL 18.40625 0 \nL 9.421875 0 \nz\nM 9.421875 75.984375 \nL 18.40625 75.984375 \nL 18.40625 64.59375 \nL 9.421875 64.59375 \nz\n\" id=\"DejaVuSans-105\"/>\n      <path d=\"M 54.890625 33.015625 \nL 54.890625 0 \nL 45.90625 0 \nL 45.90625 32.71875 \nQ 45.90625 40.484375 42.875 44.328125 \nQ 39.84375 48.1875 33.796875 48.1875 \nQ 26.515625 48.1875 22.3125 43.546875 \nQ 18.109375 38.921875 18.109375 30.90625 \nL 18.109375 0 \nL 9.078125 0 \nL 9.078125 54.6875 \nL 18.109375 54.6875 \nL 18.109375 46.1875 \nQ 21.34375 51.125 25.703125 53.5625 \nQ 30.078125 56 35.796875 56 \nQ 45.21875 56 50.046875 50.171875 \nQ 54.890625 44.34375 54.890625 33.015625 \nz\n\" id=\"DejaVuSans-110\"/>\n      <path id=\"DejaVuSans-32\"/>\n      <path d=\"M 9.421875 75.984375 \nL 18.40625 75.984375 \nL 18.40625 0 \nL 9.421875 0 \nz\n\" id=\"DejaVuSans-108\"/>\n      <path d=\"M 44.28125 53.078125 \nL 44.28125 44.578125 \nQ 40.484375 46.53125 36.375 47.5 \nQ 32.28125 48.484375 27.875 48.484375 \nQ 21.1875 48.484375 17.84375 46.4375 \nQ 14.5 44.390625 14.5 40.28125 \nQ 14.5 37.15625 16.890625 35.375 \nQ 19.28125 33.59375 26.515625 31.984375 \nL 29.59375 31.296875 \nQ 39.15625 29.25 43.1875 25.515625 \nQ 47.21875 21.78125 47.21875 15.09375 \nQ 47.21875 7.46875 41.1875 3.015625 \nQ 35.15625 -1.421875 24.609375 -1.421875 \nQ 20.21875 -1.421875 15.453125 -0.5625 \nQ 10.6875 0.296875 5.421875 2 \nL 5.421875 11.28125 \nQ 10.40625 8.6875 15.234375 7.390625 \nQ 20.0625 6.109375 24.8125 6.109375 \nQ 31.15625 6.109375 34.5625 8.28125 \nQ 37.984375 10.453125 37.984375 14.40625 \nQ 37.984375 18.0625 35.515625 20.015625 \nQ 33.0625 21.96875 24.703125 23.78125 \nL 21.578125 24.515625 \nQ 13.234375 26.265625 9.515625 29.90625 \nQ 5.8125 33.546875 5.8125 39.890625 \nQ 5.8125 47.609375 11.28125 51.796875 \nQ 16.75 56 26.8125 56 \nQ 31.78125 56 36.171875 55.265625 \nQ 40.578125 54.546875 44.28125 53.078125 \nz\n\" id=\"DejaVuSans-115\"/>\n     </defs>\n     <g transform=\"translate(170.634375 63.23125)scale(0.1 -0.1)\">\n      <use xlink:href=\"#DejaVuSans-116\"/>\n      <use x=\"39.208984\" xlink:href=\"#DejaVuSans-114\"/>\n      <use x=\"80.322266\" xlink:href=\"#DejaVuSans-97\"/>\n      <use x=\"141.601562\" xlink:href=\"#DejaVuSans-105\"/>\n      <use x=\"169.384766\" xlink:href=\"#DejaVuSans-110\"/>\n      <use x=\"232.763672\" xlink:href=\"#DejaVuSans-32\"/>\n      <use x=\"264.550781\" xlink:href=\"#DejaVuSans-108\"/>\n      <use x=\"292.333984\" xlink:href=\"#DejaVuSans-111\"/>\n      <use x=\"353.515625\" xlink:href=\"#DejaVuSans-115\"/>\n      <use x=\"405.615234\" xlink:href=\"#DejaVuSans-115\"/>\n     </g>\n    </g>\n    <g id=\"line2d_22\">\n     <path d=\"M 142.634375 74.409375 \nL 162.634375 74.409375 \n\" style=\"fill:none;stroke:#bf00bf;stroke-dasharray:5.55,2.4;stroke-dashoffset:0;stroke-width:1.5;\"/>\n    </g>\n    <g id=\"line2d_23\"/>\n    <g id=\"text_11\">\n     <!-- train acc -->\n     <g transform=\"translate(170.634375 77.909375)scale(0.1 -0.1)\">\n      <use xlink:href=\"#DejaVuSans-116\"/>\n      <use x=\"39.208984\" xlink:href=\"#DejaVuSans-114\"/>\n      <use x=\"80.322266\" xlink:href=\"#DejaVuSans-97\"/>\n      <use x=\"141.601562\" xlink:href=\"#DejaVuSans-105\"/>\n      <use x=\"169.384766\" xlink:href=\"#DejaVuSans-110\"/>\n      <use x=\"232.763672\" xlink:href=\"#DejaVuSans-32\"/>\n      <use x=\"264.550781\" xlink:href=\"#DejaVuSans-97\"/>\n      <use x=\"325.830078\" xlink:href=\"#DejaVuSans-99\"/>\n      <use x=\"380.810547\" xlink:href=\"#DejaVuSans-99\"/>\n     </g>\n    </g>\n    <g id=\"line2d_24\">\n     <path d=\"M 142.634375 89.0875 \nL 162.634375 89.0875 \n\" style=\"fill:none;stroke:#008000;stroke-dasharray:9.6,2.4,1.5,2.4;stroke-dashoffset:0;stroke-width:1.5;\"/>\n    </g>\n    <g id=\"line2d_25\"/>\n    <g id=\"text_12\">\n     <!-- test acc -->\n     <g transform=\"translate(170.634375 92.5875)scale(0.1 -0.1)\">\n      <use xlink:href=\"#DejaVuSans-116\"/>\n      <use x=\"39.208984\" xlink:href=\"#DejaVuSans-101\"/>\n      <use x=\"100.732422\" xlink:href=\"#DejaVuSans-115\"/>\n      <use x=\"152.832031\" xlink:href=\"#DejaVuSans-116\"/>\n      <use x=\"192.041016\" xlink:href=\"#DejaVuSans-32\"/>\n      <use x=\"223.828125\" xlink:href=\"#DejaVuSans-97\"/>\n      <use x=\"285.107422\" xlink:href=\"#DejaVuSans-99\"/>\n      <use x=\"340.087891\" xlink:href=\"#DejaVuSans-99\"/>\n     </g>\n    </g>\n   </g>\n  </g>\n </g>\n <defs>\n  <clipPath id=\"pd4b9338241\">\n   <rect height=\"135.9\" width=\"195.3\" x=\"30.103125\" y=\"7.2\"/>\n  </clipPath>\n </defs>\n</svg>\n"
          },
          "metadata": {
            "tags": [],
            "needs_background": "light"
          }
        }
      ]
    },
    {
      "cell_type": "markdown",
      "metadata": {
        "origin_pos": 50,
        "id": "vXbHqSfUPYKJ"
      },
      "source": [
        "## Prediction\n",
        "\n",
        "Now that training is complete,\n",
        "our model is ready to classify some images.\n",
        "Given a series of images,\n",
        "we will compare their actual labels\n",
        "(first line of text output)\n",
        "and the predictions from the model\n",
        "(second line of text output).\n"
      ]
    },
    {
      "cell_type": "code",
      "metadata": {
        "origin_pos": 51,
        "tab": [
          "tensorflow"
        ],
        "id": "iOxoyseGPYKJ",
        "colab": {
          "base_uri": "https://localhost:8080/",
          "height": 197
        },
        "outputId": "d9602e4e-9b6f-4564-fb65-c1716e219cf9"
      },
      "source": [
        "def predict_ch3(net, test_iter, n=15):  # Dự đoán kết quả trong đó n là số ảnh cần dự đoán\n",
        "    \"\"\"Predict labels (defined in Chapter 3).\"\"\"\n",
        "    for X, y in test_iter: # Lấy ra X và y\n",
        "        break\n",
        "    trues = d2l.get_fashion_mnist_labels(y) # Lấy truth - grounding (kết quả đúng) từ dataset\n",
        "    preds = d2l.get_fashion_mnist_labels(tf.argmax(net(X), axis=1)) # lấy kết quả mà model predict ra được\n",
        "    titles = [true +'\\n' + pred for true, pred in zip(trues, preds)] # tạo title = kết quả đúng + kết quả dự đoán\n",
        "    d2l.show_images(\n",
        "        tf.reshape(X[0:n], (n, 28, 28)), 1, n, titles=titles[0:n]) # Hiện ra các ảnh kèm label\n",
        "predict_ch3(net, test_iter)"
      ],
      "execution_count": null,
      "outputs": [
        {
          "output_type": "display_data",
          "data": {
            "text/plain": [
              "<Figure size 1620x108 with 15 Axes>"
            ],
            "image/svg+xml": "<?xml version=\"1.0\" encoding=\"utf-8\" standalone=\"no\"?>\n<!DOCTYPE svg PUBLIC \"-//W3C//DTD SVG 1.1//EN\"\n  \"http://www.w3.org/Graphics/SVG/1.1/DTD/svg11.dtd\">\n<!-- Created with matplotlib (https://matplotlib.org/) -->\n<svg height=\"116.989208pt\" version=\"1.1\" viewBox=\"0 0 1273.4 116.989208\" width=\"1273.4pt\" xmlns=\"http://www.w3.org/2000/svg\" xmlns:xlink=\"http://www.w3.org/1999/xlink\">\n <defs>\n  <style type=\"text/css\">\n*{stroke-linecap:butt;stroke-linejoin:round;}\n  </style>\n </defs>\n <g id=\"figure_1\">\n  <g id=\"patch_1\">\n   <path d=\"M 0 116.989208 \nL 1273.4 116.989208 \nL 1273.4 -0 \nL 0 -0 \nz\n\" style=\"fill:none;\"/>\n  </g>\n  <g id=\"axes_1\">\n   <g id=\"patch_2\">\n    <path d=\"M 10.7 106.289208 \nL 81.233708 106.289208 \nL 81.233708 35.7555 \nL 10.7 35.7555 \nz\n\" style=\"fill:#ffffff;\"/>\n   </g>\n   <g clip-path=\"url(#p21e6a78d28)\">\n    <image height=\"71\" id=\"imageb36de53c53\" transform=\"scale(1 -1)translate(0 -71)\" width=\"71\" x=\"10.7\" xlink:href=\"data:image/png;base64,\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\" y=\"-35.289208\"/>\n   </g>\n   <g id=\"patch_3\">\n    <path d=\"M 10.7 106.289208 \nL 10.7 35.7555 \n\" style=\"fill:none;stroke:#000000;stroke-linecap:square;stroke-linejoin:miter;stroke-width:0.8;\"/>\n   </g>\n   <g id=\"patch_4\">\n    <path d=\"M 81.233708 106.289208 \nL 81.233708 35.7555 \n\" style=\"fill:none;stroke:#000000;stroke-linecap:square;stroke-linejoin:miter;stroke-width:0.8;\"/>\n   </g>\n   <g id=\"patch_5\">\n    <path d=\"M 10.7 106.289208 \nL 81.233708 106.289208 \n\" style=\"fill:none;stroke:#000000;stroke-linecap:square;stroke-linejoin:miter;stroke-width:0.8;\"/>\n   </g>\n   <g id=\"patch_6\">\n    <path d=\"M 10.7 35.7555 \nL 81.233708 35.7555 \n\" style=\"fill:none;stroke:#000000;stroke-linecap:square;stroke-linejoin:miter;stroke-width:0.8;\"/>\n   </g>\n   <g id=\"text_1\">\n    <!-- ankle boot -->\n    <defs>\n     <path d=\"M 34.28125 27.484375 \nQ 23.390625 27.484375 19.1875 25 \nQ 14.984375 22.515625 14.984375 16.5 \nQ 14.984375 11.71875 18.140625 8.90625 \nQ 21.296875 6.109375 26.703125 6.109375 \nQ 34.1875 6.109375 38.703125 11.40625 \nQ 43.21875 16.703125 43.21875 25.484375 \nL 43.21875 27.484375 \nz\nM 52.203125 31.203125 \nL 52.203125 0 \nL 43.21875 0 \nL 43.21875 8.296875 \nQ 40.140625 3.328125 35.546875 0.953125 \nQ 30.953125 -1.421875 24.3125 -1.421875 \nQ 15.921875 -1.421875 10.953125 3.296875 \nQ 6 8.015625 6 15.921875 \nQ 6 25.140625 12.171875 29.828125 \nQ 18.359375 34.515625 30.609375 34.515625 \nL 43.21875 34.515625 \nL 43.21875 35.40625 \nQ 43.21875 41.609375 39.140625 45 \nQ 35.0625 48.390625 27.6875 48.390625 \nQ 23 48.390625 18.546875 47.265625 \nQ 14.109375 46.140625 10.015625 43.890625 \nL 10.015625 52.203125 \nQ 14.9375 54.109375 19.578125 55.046875 \nQ 24.21875 56 28.609375 56 \nQ 40.484375 56 46.34375 49.84375 \nQ 52.203125 43.703125 52.203125 31.203125 \nz\n\" id=\"DejaVuSans-97\"/>\n     <path d=\"M 54.890625 33.015625 \nL 54.890625 0 \nL 45.90625 0 \nL 45.90625 32.71875 \nQ 45.90625 40.484375 42.875 44.328125 \nQ 39.84375 48.1875 33.796875 48.1875 \nQ 26.515625 48.1875 22.3125 43.546875 \nQ 18.109375 38.921875 18.109375 30.90625 \nL 18.109375 0 \nL 9.078125 0 \nL 9.078125 54.6875 \nL 18.109375 54.6875 \nL 18.109375 46.1875 \nQ 21.34375 51.125 25.703125 53.5625 \nQ 30.078125 56 35.796875 56 \nQ 45.21875 56 50.046875 50.171875 \nQ 54.890625 44.34375 54.890625 33.015625 \nz\n\" id=\"DejaVuSans-110\"/>\n     <path d=\"M 9.078125 75.984375 \nL 18.109375 75.984375 \nL 18.109375 31.109375 \nL 44.921875 54.6875 \nL 56.390625 54.6875 \nL 27.390625 29.109375 \nL 57.625 0 \nL 45.90625 0 \nL 18.109375 26.703125 \nL 18.109375 0 \nL 9.078125 0 \nz\n\" id=\"DejaVuSans-107\"/>\n     <path d=\"M 9.421875 75.984375 \nL 18.40625 75.984375 \nL 18.40625 0 \nL 9.421875 0 \nz\n\" id=\"DejaVuSans-108\"/>\n     <path d=\"M 56.203125 29.59375 \nL 56.203125 25.203125 \nL 14.890625 25.203125 \nQ 15.484375 15.921875 20.484375 11.0625 \nQ 25.484375 6.203125 34.421875 6.203125 \nQ 39.59375 6.203125 44.453125 7.46875 \nQ 49.3125 8.734375 54.109375 11.28125 \nL 54.109375 2.78125 \nQ 49.265625 0.734375 44.1875 -0.34375 \nQ 39.109375 -1.421875 33.890625 -1.421875 \nQ 20.796875 -1.421875 13.15625 6.1875 \nQ 5.515625 13.8125 5.515625 26.8125 \nQ 5.515625 40.234375 12.765625 48.109375 \nQ 20.015625 56 32.328125 56 \nQ 43.359375 56 49.78125 48.890625 \nQ 56.203125 41.796875 56.203125 29.59375 \nz\nM 47.21875 32.234375 \nQ 47.125 39.59375 43.09375 43.984375 \nQ 39.0625 48.390625 32.421875 48.390625 \nQ 24.90625 48.390625 20.390625 44.140625 \nQ 15.875 39.890625 15.1875 32.171875 \nz\n\" id=\"DejaVuSans-101\"/>\n     <path id=\"DejaVuSans-32\"/>\n     <path d=\"M 48.6875 27.296875 \nQ 48.6875 37.203125 44.609375 42.84375 \nQ 40.53125 48.484375 33.40625 48.484375 \nQ 26.265625 48.484375 22.1875 42.84375 \nQ 18.109375 37.203125 18.109375 27.296875 \nQ 18.109375 17.390625 22.1875 11.75 \nQ 26.265625 6.109375 33.40625 6.109375 \nQ 40.53125 6.109375 44.609375 11.75 \nQ 48.6875 17.390625 48.6875 27.296875 \nz\nM 18.109375 46.390625 \nQ 20.953125 51.265625 25.265625 53.625 \nQ 29.59375 56 35.59375 56 \nQ 45.5625 56 51.78125 48.09375 \nQ 58.015625 40.1875 58.015625 27.296875 \nQ 58.015625 14.40625 51.78125 6.484375 \nQ 45.5625 -1.421875 35.59375 -1.421875 \nQ 29.59375 -1.421875 25.265625 0.953125 \nQ 20.953125 3.328125 18.109375 8.203125 \nL 18.109375 0 \nL 9.078125 0 \nL 9.078125 75.984375 \nL 18.109375 75.984375 \nz\n\" id=\"DejaVuSans-98\"/>\n     <path d=\"M 30.609375 48.390625 \nQ 23.390625 48.390625 19.1875 42.75 \nQ 14.984375 37.109375 14.984375 27.296875 \nQ 14.984375 17.484375 19.15625 11.84375 \nQ 23.34375 6.203125 30.609375 6.203125 \nQ 37.796875 6.203125 41.984375 11.859375 \nQ 46.1875 17.53125 46.1875 27.296875 \nQ 46.1875 37.015625 41.984375 42.703125 \nQ 37.796875 48.390625 30.609375 48.390625 \nz\nM 30.609375 56 \nQ 42.328125 56 49.015625 48.375 \nQ 55.71875 40.765625 55.71875 27.296875 \nQ 55.71875 13.875 49.015625 6.21875 \nQ 42.328125 -1.421875 30.609375 -1.421875 \nQ 18.84375 -1.421875 12.171875 6.21875 \nQ 5.515625 13.875 5.515625 27.296875 \nQ 5.515625 40.765625 12.171875 48.375 \nQ 18.84375 56 30.609375 56 \nz\n\" id=\"DejaVuSans-111\"/>\n     <path d=\"M 18.3125 70.21875 \nL 18.3125 54.6875 \nL 36.8125 54.6875 \nL 36.8125 47.703125 \nL 18.3125 47.703125 \nL 18.3125 18.015625 \nQ 18.3125 11.328125 20.140625 9.421875 \nQ 21.96875 7.515625 27.59375 7.515625 \nL 36.8125 7.515625 \nL 36.8125 0 \nL 27.59375 0 \nQ 17.1875 0 13.234375 3.875 \nQ 9.28125 7.765625 9.28125 18.015625 \nL 9.28125 47.703125 \nL 2.6875 47.703125 \nL 2.6875 54.6875 \nL 9.28125 54.6875 \nL 9.28125 70.21875 \nz\n\" id=\"DejaVuSans-116\"/>\n    </defs>\n    <g transform=\"translate(14.243729 16.318125)scale(0.12 -0.12)\">\n     <use xlink:href=\"#DejaVuSans-97\"/>\n     <use x=\"61.279297\" xlink:href=\"#DejaVuSans-110\"/>\n     <use x=\"124.658203\" xlink:href=\"#DejaVuSans-107\"/>\n     <use x=\"182.568359\" xlink:href=\"#DejaVuSans-108\"/>\n     <use x=\"210.351562\" xlink:href=\"#DejaVuSans-101\"/>\n     <use x=\"271.875\" xlink:href=\"#DejaVuSans-32\"/>\n     <use x=\"303.662109\" xlink:href=\"#DejaVuSans-98\"/>\n     <use x=\"367.138672\" xlink:href=\"#DejaVuSans-111\"/>\n     <use x=\"428.320312\" xlink:href=\"#DejaVuSans-111\"/>\n     <use x=\"489.501953\" xlink:href=\"#DejaVuSans-116\"/>\n    </g>\n    <!-- ankle boot -->\n    <g transform=\"translate(14.243729 29.7555)scale(0.12 -0.12)\">\n     <use xlink:href=\"#DejaVuSans-97\"/>\n     <use x=\"61.279297\" xlink:href=\"#DejaVuSans-110\"/>\n     <use x=\"124.658203\" xlink:href=\"#DejaVuSans-107\"/>\n     <use x=\"182.568359\" xlink:href=\"#DejaVuSans-108\"/>\n     <use x=\"210.351562\" xlink:href=\"#DejaVuSans-101\"/>\n     <use x=\"271.875\" xlink:href=\"#DejaVuSans-32\"/>\n     <use x=\"303.662109\" xlink:href=\"#DejaVuSans-98\"/>\n     <use x=\"367.138672\" xlink:href=\"#DejaVuSans-111\"/>\n     <use x=\"428.320312\" xlink:href=\"#DejaVuSans-111\"/>\n     <use x=\"489.501953\" xlink:href=\"#DejaVuSans-116\"/>\n    </g>\n   </g>\n  </g>\n  <g id=\"axes_2\">\n   <g id=\"patch_7\">\n    <path d=\"M 95.340449 106.289208 \nL 165.874157 106.289208 \nL 165.874157 35.7555 \nL 95.340449 35.7555 \nz\n\" style=\"fill:#ffffff;\"/>\n   </g>\n   <g clip-path=\"url(#p2a8053bcea)\">\n    <image height=\"71\" id=\"imagee7cbb28e54\" transform=\"scale(1 -1)translate(0 -71)\" width=\"71\" x=\"95.340449\" xlink:href=\"data:image/png;base64,\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\" y=\"-35.289208\"/>\n   </g>\n   <g id=\"patch_8\">\n    <path d=\"M 95.340449 106.289208 \nL 95.340449 35.7555 \n\" style=\"fill:none;stroke:#000000;stroke-linecap:square;stroke-linejoin:miter;stroke-width:0.8;\"/>\n   </g>\n   <g id=\"patch_9\">\n    <path d=\"M 165.874157 106.289208 \nL 165.874157 35.7555 \n\" style=\"fill:none;stroke:#000000;stroke-linecap:square;stroke-linejoin:miter;stroke-width:0.8;\"/>\n   </g>\n   <g id=\"patch_10\">\n    <path d=\"M 95.340449 106.289208 \nL 165.874157 106.289208 \n\" style=\"fill:none;stroke:#000000;stroke-linecap:square;stroke-linejoin:miter;stroke-width:0.8;\"/>\n   </g>\n   <g id=\"patch_11\">\n    <path d=\"M 95.340449 35.7555 \nL 165.874157 35.7555 \n\" style=\"fill:none;stroke:#000000;stroke-linecap:square;stroke-linejoin:miter;stroke-width:0.8;\"/>\n   </g>\n   <g id=\"text_2\">\n    <!-- pullover -->\n    <defs>\n     <path d=\"M 18.109375 8.203125 \nL 18.109375 -20.796875 \nL 9.078125 -20.796875 \nL 9.078125 54.6875 \nL 18.109375 54.6875 \nL 18.109375 46.390625 \nQ 20.953125 51.265625 25.265625 53.625 \nQ 29.59375 56 35.59375 56 \nQ 45.5625 56 51.78125 48.09375 \nQ 58.015625 40.1875 58.015625 27.296875 \nQ 58.015625 14.40625 51.78125 6.484375 \nQ 45.5625 -1.421875 35.59375 -1.421875 \nQ 29.59375 -1.421875 25.265625 0.953125 \nQ 20.953125 3.328125 18.109375 8.203125 \nz\nM 48.6875 27.296875 \nQ 48.6875 37.203125 44.609375 42.84375 \nQ 40.53125 48.484375 33.40625 48.484375 \nQ 26.265625 48.484375 22.1875 42.84375 \nQ 18.109375 37.203125 18.109375 27.296875 \nQ 18.109375 17.390625 22.1875 11.75 \nQ 26.265625 6.109375 33.40625 6.109375 \nQ 40.53125 6.109375 44.609375 11.75 \nQ 48.6875 17.390625 48.6875 27.296875 \nz\n\" id=\"DejaVuSans-112\"/>\n     <path d=\"M 8.5 21.578125 \nL 8.5 54.6875 \nL 17.484375 54.6875 \nL 17.484375 21.921875 \nQ 17.484375 14.15625 20.5 10.265625 \nQ 23.53125 6.390625 29.59375 6.390625 \nQ 36.859375 6.390625 41.078125 11.03125 \nQ 45.3125 15.671875 45.3125 23.6875 \nL 45.3125 54.6875 \nL 54.296875 54.6875 \nL 54.296875 0 \nL 45.3125 0 \nL 45.3125 8.40625 \nQ 42.046875 3.421875 37.71875 1 \nQ 33.40625 -1.421875 27.6875 -1.421875 \nQ 18.265625 -1.421875 13.375 4.4375 \nQ 8.5 10.296875 8.5 21.578125 \nz\nM 31.109375 56 \nz\n\" id=\"DejaVuSans-117\"/>\n     <path d=\"M 2.984375 54.6875 \nL 12.5 54.6875 \nL 29.59375 8.796875 \nL 46.6875 54.6875 \nL 56.203125 54.6875 \nL 35.6875 0 \nL 23.484375 0 \nz\n\" id=\"DejaVuSans-118\"/>\n     <path d=\"M 41.109375 46.296875 \nQ 39.59375 47.171875 37.8125 47.578125 \nQ 36.03125 48 33.890625 48 \nQ 26.265625 48 22.1875 43.046875 \nQ 18.109375 38.09375 18.109375 28.8125 \nL 18.109375 0 \nL 9.078125 0 \nL 9.078125 54.6875 \nL 18.109375 54.6875 \nL 18.109375 46.1875 \nQ 20.953125 51.171875 25.484375 53.578125 \nQ 30.03125 56 36.53125 56 \nQ 37.453125 56 38.578125 55.875 \nQ 39.703125 55.765625 41.0625 55.515625 \nz\n\" id=\"DejaVuSans-114\"/>\n    </defs>\n    <g transform=\"translate(106.281053 16.318125)scale(0.12 -0.12)\">\n     <use xlink:href=\"#DejaVuSans-112\"/>\n     <use x=\"63.476562\" xlink:href=\"#DejaVuSans-117\"/>\n     <use x=\"126.855469\" xlink:href=\"#DejaVuSans-108\"/>\n     <use x=\"154.638672\" xlink:href=\"#DejaVuSans-108\"/>\n     <use x=\"182.421875\" xlink:href=\"#DejaVuSans-111\"/>\n     <use x=\"243.603516\" xlink:href=\"#DejaVuSans-118\"/>\n     <use x=\"302.783203\" xlink:href=\"#DejaVuSans-101\"/>\n     <use x=\"364.306641\" xlink:href=\"#DejaVuSans-114\"/>\n    </g>\n    <!-- pullover -->\n    <g transform=\"translate(106.281053 29.7555)scale(0.12 -0.12)\">\n     <use xlink:href=\"#DejaVuSans-112\"/>\n     <use x=\"63.476562\" xlink:href=\"#DejaVuSans-117\"/>\n     <use x=\"126.855469\" xlink:href=\"#DejaVuSans-108\"/>\n     <use x=\"154.638672\" xlink:href=\"#DejaVuSans-108\"/>\n     <use x=\"182.421875\" xlink:href=\"#DejaVuSans-111\"/>\n     <use x=\"243.603516\" xlink:href=\"#DejaVuSans-118\"/>\n     <use x=\"302.783203\" xlink:href=\"#DejaVuSans-101\"/>\n     <use x=\"364.306641\" xlink:href=\"#DejaVuSans-114\"/>\n    </g>\n   </g>\n  </g>\n  <g id=\"axes_3\">\n   <g id=\"patch_12\">\n    <path d=\"M 179.980899 106.289208 \nL 250.514607 106.289208 \nL 250.514607 35.7555 \nL 179.980899 35.7555 \nz\n\" style=\"fill:#ffffff;\"/>\n   </g>\n   <g clip-path=\"url(#p7eee8e8451)\">\n    <image height=\"71\" id=\"image1e82955be8\" transform=\"scale(1 -1)translate(0 -71)\" width=\"71\" x=\"179.980899\" xlink:href=\"data:image/png;base64,\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\" y=\"-35.289208\"/>\n   </g>\n   <g id=\"patch_13\">\n    <path d=\"M 179.980899 106.289208 \nL 179.980899 35.7555 \n\" style=\"fill:none;stroke:#000000;stroke-linecap:square;stroke-linejoin:miter;stroke-width:0.8;\"/>\n   </g>\n   <g id=\"patch_14\">\n    <path d=\"M 250.514607 106.289208 \nL 250.514607 35.7555 \n\" style=\"fill:none;stroke:#000000;stroke-linecap:square;stroke-linejoin:miter;stroke-width:0.8;\"/>\n   </g>\n   <g id=\"patch_15\">\n    <path d=\"M 179.980899 106.289208 \nL 250.514607 106.289208 \n\" style=\"fill:none;stroke:#000000;stroke-linecap:square;stroke-linejoin:miter;stroke-width:0.8;\"/>\n   </g>\n   <g id=\"patch_16\">\n    <path d=\"M 179.980899 35.7555 \nL 250.514607 35.7555 \n\" style=\"fill:none;stroke:#000000;stroke-linecap:square;stroke-linejoin:miter;stroke-width:0.8;\"/>\n   </g>\n   <g id=\"text_3\">\n    <!-- trouser -->\n    <defs>\n     <path d=\"M 44.28125 53.078125 \nL 44.28125 44.578125 \nQ 40.484375 46.53125 36.375 47.5 \nQ 32.28125 48.484375 27.875 48.484375 \nQ 21.1875 48.484375 17.84375 46.4375 \nQ 14.5 44.390625 14.5 40.28125 \nQ 14.5 37.15625 16.890625 35.375 \nQ 19.28125 33.59375 26.515625 31.984375 \nL 29.59375 31.296875 \nQ 39.15625 29.25 43.1875 25.515625 \nQ 47.21875 21.78125 47.21875 15.09375 \nQ 47.21875 7.46875 41.1875 3.015625 \nQ 35.15625 -1.421875 24.609375 -1.421875 \nQ 20.21875 -1.421875 15.453125 -0.5625 \nQ 10.6875 0.296875 5.421875 2 \nL 5.421875 11.28125 \nQ 10.40625 8.6875 15.234375 7.390625 \nQ 20.0625 6.109375 24.8125 6.109375 \nQ 31.15625 6.109375 34.5625 8.28125 \nQ 37.984375 10.453125 37.984375 14.40625 \nQ 37.984375 18.0625 35.515625 20.015625 \nQ 33.0625 21.96875 24.703125 23.78125 \nL 21.578125 24.515625 \nQ 13.234375 26.265625 9.515625 29.90625 \nQ 5.8125 33.546875 5.8125 39.890625 \nQ 5.8125 47.609375 11.28125 51.796875 \nQ 16.75 56 26.8125 56 \nQ 31.78125 56 36.171875 55.265625 \nQ 40.578125 54.546875 44.28125 53.078125 \nz\n\" id=\"DejaVuSans-115\"/>\n    </defs>\n    <g transform=\"translate(193.80619 16.318125)scale(0.12 -0.12)\">\n     <use xlink:href=\"#DejaVuSans-116\"/>\n     <use x=\"39.208984\" xlink:href=\"#DejaVuSans-114\"/>\n     <use x=\"78.072266\" xlink:href=\"#DejaVuSans-111\"/>\n     <use x=\"139.253906\" xlink:href=\"#DejaVuSans-117\"/>\n     <use x=\"202.632812\" xlink:href=\"#DejaVuSans-115\"/>\n     <use x=\"254.732422\" xlink:href=\"#DejaVuSans-101\"/>\n     <use x=\"316.255859\" xlink:href=\"#DejaVuSans-114\"/>\n    </g>\n    <!-- trouser -->\n    <g transform=\"translate(193.80619 29.7555)scale(0.12 -0.12)\">\n     <use xlink:href=\"#DejaVuSans-116\"/>\n     <use x=\"39.208984\" xlink:href=\"#DejaVuSans-114\"/>\n     <use x=\"78.072266\" xlink:href=\"#DejaVuSans-111\"/>\n     <use x=\"139.253906\" xlink:href=\"#DejaVuSans-117\"/>\n     <use x=\"202.632812\" xlink:href=\"#DejaVuSans-115\"/>\n     <use x=\"254.732422\" xlink:href=\"#DejaVuSans-101\"/>\n     <use x=\"316.255859\" xlink:href=\"#DejaVuSans-114\"/>\n    </g>\n   </g>\n  </g>\n  <g id=\"axes_4\">\n   <g id=\"patch_17\">\n    <path d=\"M 264.621348 106.289208 \nL 335.155056 106.289208 \nL 335.155056 35.7555 \nL 264.621348 35.7555 \nz\n\" style=\"fill:#ffffff;\"/>\n   </g>\n   <g clip-path=\"url(#pbc51c74e5d)\">\n    <image height=\"71\" id=\"image65c1e12964\" transform=\"scale(1 -1)translate(0 -71)\" width=\"71\" x=\"264.621348\" xlink:href=\"data:image/png;base64,\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\" y=\"-35.289208\"/>\n   </g>\n   <g id=\"patch_18\">\n    <path d=\"M 264.621348 106.289208 \nL 264.621348 35.7555 \n\" style=\"fill:none;stroke:#000000;stroke-linecap:square;stroke-linejoin:miter;stroke-width:0.8;\"/>\n   </g>\n   <g id=\"patch_19\">\n    <path d=\"M 335.155056 106.289208 \nL 335.155056 35.7555 \n\" style=\"fill:none;stroke:#000000;stroke-linecap:square;stroke-linejoin:miter;stroke-width:0.8;\"/>\n   </g>\n   <g id=\"patch_20\">\n    <path d=\"M 264.621348 106.289208 \nL 335.155056 106.289208 \n\" style=\"fill:none;stroke:#000000;stroke-linecap:square;stroke-linejoin:miter;stroke-width:0.8;\"/>\n   </g>\n   <g id=\"patch_21\">\n    <path d=\"M 264.621348 35.7555 \nL 335.155056 35.7555 \n\" style=\"fill:none;stroke:#000000;stroke-linecap:square;stroke-linejoin:miter;stroke-width:0.8;\"/>\n   </g>\n   <g id=\"text_4\">\n    <!-- trouser -->\n    <g transform=\"translate(278.44664 16.318125)scale(0.12 -0.12)\">\n     <use xlink:href=\"#DejaVuSans-116\"/>\n     <use x=\"39.208984\" xlink:href=\"#DejaVuSans-114\"/>\n     <use x=\"78.072266\" xlink:href=\"#DejaVuSans-111\"/>\n     <use x=\"139.253906\" xlink:href=\"#DejaVuSans-117\"/>\n     <use x=\"202.632812\" xlink:href=\"#DejaVuSans-115\"/>\n     <use x=\"254.732422\" xlink:href=\"#DejaVuSans-101\"/>\n     <use x=\"316.255859\" xlink:href=\"#DejaVuSans-114\"/>\n    </g>\n    <!-- trouser -->\n    <g transform=\"translate(278.44664 29.7555)scale(0.12 -0.12)\">\n     <use xlink:href=\"#DejaVuSans-116\"/>\n     <use x=\"39.208984\" xlink:href=\"#DejaVuSans-114\"/>\n     <use x=\"78.072266\" xlink:href=\"#DejaVuSans-111\"/>\n     <use x=\"139.253906\" xlink:href=\"#DejaVuSans-117\"/>\n     <use x=\"202.632812\" xlink:href=\"#DejaVuSans-115\"/>\n     <use x=\"254.732422\" xlink:href=\"#DejaVuSans-101\"/>\n     <use x=\"316.255859\" xlink:href=\"#DejaVuSans-114\"/>\n    </g>\n   </g>\n  </g>\n  <g id=\"axes_5\">\n   <g id=\"patch_22\">\n    <path d=\"M 349.261798 106.289208 \nL 419.795506 106.289208 \nL 419.795506 35.7555 \nL 349.261798 35.7555 \nz\n\" style=\"fill:#ffffff;\"/>\n   </g>\n   <g clip-path=\"url(#paa76e3d087)\">\n    <image height=\"71\" id=\"image950e3ca4b9\" transform=\"scale(1 -1)translate(0 -71)\" width=\"71\" x=\"349.261798\" xlink:href=\"data:image/png;base64,\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\" y=\"-35.289208\"/>\n   </g>\n   <g id=\"patch_23\">\n    <path d=\"M 349.261798 106.289208 \nL 349.261798 35.7555 \n\" style=\"fill:none;stroke:#000000;stroke-linecap:square;stroke-linejoin:miter;stroke-width:0.8;\"/>\n   </g>\n   <g id=\"patch_24\">\n    <path d=\"M 419.795506 106.289208 \nL 419.795506 35.7555 \n\" style=\"fill:none;stroke:#000000;stroke-linecap:square;stroke-linejoin:miter;stroke-width:0.8;\"/>\n   </g>\n   <g id=\"patch_25\">\n    <path d=\"M 349.261798 106.289208 \nL 419.795506 106.289208 \n\" style=\"fill:none;stroke:#000000;stroke-linecap:square;stroke-linejoin:miter;stroke-width:0.8;\"/>\n   </g>\n   <g id=\"patch_26\">\n    <path d=\"M 349.261798 35.7555 \nL 419.795506 35.7555 \n\" style=\"fill:none;stroke:#000000;stroke-linecap:square;stroke-linejoin:miter;stroke-width:0.8;\"/>\n   </g>\n   <g id=\"text_5\">\n    <!-- shirt -->\n    <defs>\n     <path d=\"M 54.890625 33.015625 \nL 54.890625 0 \nL 45.90625 0 \nL 45.90625 32.71875 \nQ 45.90625 40.484375 42.875 44.328125 \nQ 39.84375 48.1875 33.796875 48.1875 \nQ 26.515625 48.1875 22.3125 43.546875 \nQ 18.109375 38.921875 18.109375 30.90625 \nL 18.109375 0 \nL 9.078125 0 \nL 9.078125 75.984375 \nL 18.109375 75.984375 \nL 18.109375 46.1875 \nQ 21.34375 51.125 25.703125 53.5625 \nQ 30.078125 56 35.796875 56 \nQ 45.21875 56 50.046875 50.171875 \nQ 54.890625 44.34375 54.890625 33.015625 \nz\n\" id=\"DejaVuSans-104\"/>\n     <path d=\"M 9.421875 54.6875 \nL 18.40625 54.6875 \nL 18.40625 0 \nL 9.421875 0 \nz\nM 9.421875 75.984375 \nL 18.40625 75.984375 \nL 18.40625 64.59375 \nL 9.421875 64.59375 \nz\n\" id=\"DejaVuSans-105\"/>\n    </defs>\n    <g transform=\"translate(371.114902 16.318125)scale(0.12 -0.12)\">\n     <use xlink:href=\"#DejaVuSans-115\"/>\n     <use x=\"52.099609\" xlink:href=\"#DejaVuSans-104\"/>\n     <use x=\"115.478516\" xlink:href=\"#DejaVuSans-105\"/>\n     <use x=\"143.261719\" xlink:href=\"#DejaVuSans-114\"/>\n     <use x=\"184.375\" xlink:href=\"#DejaVuSans-116\"/>\n    </g>\n    <!-- shirt -->\n    <g transform=\"translate(371.114902 29.7555)scale(0.12 -0.12)\">\n     <use xlink:href=\"#DejaVuSans-115\"/>\n     <use x=\"52.099609\" xlink:href=\"#DejaVuSans-104\"/>\n     <use x=\"115.478516\" xlink:href=\"#DejaVuSans-105\"/>\n     <use x=\"143.261719\" xlink:href=\"#DejaVuSans-114\"/>\n     <use x=\"184.375\" xlink:href=\"#DejaVuSans-116\"/>\n    </g>\n   </g>\n  </g>\n  <g id=\"axes_6\">\n   <g id=\"patch_27\">\n    <path d=\"M 433.902247 106.289208 \nL 504.435955 106.289208 \nL 504.435955 35.7555 \nL 433.902247 35.7555 \nz\n\" style=\"fill:#ffffff;\"/>\n   </g>\n   <g clip-path=\"url(#p41f44f23ee)\">\n    <image height=\"71\" id=\"image41b82ff248\" transform=\"scale(1 -1)translate(0 -71)\" width=\"71\" x=\"433.902247\" xlink:href=\"data:image/png;base64,\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\" y=\"-35.289208\"/>\n   </g>\n   <g id=\"patch_28\">\n    <path d=\"M 433.902247 106.289208 \nL 433.902247 35.7555 \n\" style=\"fill:none;stroke:#000000;stroke-linecap:square;stroke-linejoin:miter;stroke-width:0.8;\"/>\n   </g>\n   <g id=\"patch_29\">\n    <path d=\"M 504.435955 106.289208 \nL 504.435955 35.7555 \n\" style=\"fill:none;stroke:#000000;stroke-linecap:square;stroke-linejoin:miter;stroke-width:0.8;\"/>\n   </g>\n   <g id=\"patch_30\">\n    <path d=\"M 433.902247 106.289208 \nL 504.435955 106.289208 \n\" style=\"fill:none;stroke:#000000;stroke-linecap:square;stroke-linejoin:miter;stroke-width:0.8;\"/>\n   </g>\n   <g id=\"patch_31\">\n    <path d=\"M 433.902247 35.7555 \nL 504.435955 35.7555 \n\" style=\"fill:none;stroke:#000000;stroke-linecap:square;stroke-linejoin:miter;stroke-width:0.8;\"/>\n   </g>\n   <g id=\"text_6\">\n    <!-- trouser -->\n    <g transform=\"translate(447.727539 16.318125)scale(0.12 -0.12)\">\n     <use xlink:href=\"#DejaVuSans-116\"/>\n     <use x=\"39.208984\" xlink:href=\"#DejaVuSans-114\"/>\n     <use x=\"78.072266\" xlink:href=\"#DejaVuSans-111\"/>\n     <use x=\"139.253906\" xlink:href=\"#DejaVuSans-117\"/>\n     <use x=\"202.632812\" xlink:href=\"#DejaVuSans-115\"/>\n     <use x=\"254.732422\" xlink:href=\"#DejaVuSans-101\"/>\n     <use x=\"316.255859\" xlink:href=\"#DejaVuSans-114\"/>\n    </g>\n    <!-- trouser -->\n    <g transform=\"translate(447.727539 29.7555)scale(0.12 -0.12)\">\n     <use xlink:href=\"#DejaVuSans-116\"/>\n     <use x=\"39.208984\" xlink:href=\"#DejaVuSans-114\"/>\n     <use x=\"78.072266\" xlink:href=\"#DejaVuSans-111\"/>\n     <use x=\"139.253906\" xlink:href=\"#DejaVuSans-117\"/>\n     <use x=\"202.632812\" xlink:href=\"#DejaVuSans-115\"/>\n     <use x=\"254.732422\" xlink:href=\"#DejaVuSans-101\"/>\n     <use x=\"316.255859\" xlink:href=\"#DejaVuSans-114\"/>\n    </g>\n   </g>\n  </g>\n  <g id=\"axes_7\">\n   <g id=\"patch_32\">\n    <path d=\"M 518.542697 106.289208 \nL 589.076404 106.289208 \nL 589.076404 35.7555 \nL 518.542697 35.7555 \nz\n\" style=\"fill:#ffffff;\"/>\n   </g>\n   <g clip-path=\"url(#pdf9d334fcd)\">\n    <image height=\"71\" id=\"imaged42664bf17\" transform=\"scale(1 -1)translate(0 -71)\" width=\"71\" x=\"518.542697\" xlink:href=\"data:image/png;base64,\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\" y=\"-35.289208\"/>\n   </g>\n   <g id=\"patch_33\">\n    <path d=\"M 518.542697 106.289208 \nL 518.542697 35.7555 \n\" style=\"fill:none;stroke:#000000;stroke-linecap:square;stroke-linejoin:miter;stroke-width:0.8;\"/>\n   </g>\n   <g id=\"patch_34\">\n    <path d=\"M 589.076404 106.289208 \nL 589.076404 35.7555 \n\" style=\"fill:none;stroke:#000000;stroke-linecap:square;stroke-linejoin:miter;stroke-width:0.8;\"/>\n   </g>\n   <g id=\"patch_35\">\n    <path d=\"M 518.542697 106.289208 \nL 589.076404 106.289208 \n\" style=\"fill:none;stroke:#000000;stroke-linecap:square;stroke-linejoin:miter;stroke-width:0.8;\"/>\n   </g>\n   <g id=\"patch_36\">\n    <path d=\"M 518.542697 35.7555 \nL 589.076404 35.7555 \n\" style=\"fill:none;stroke:#000000;stroke-linecap:square;stroke-linejoin:miter;stroke-width:0.8;\"/>\n   </g>\n   <g id=\"text_7\">\n    <!-- coat -->\n    <defs>\n     <path d=\"M 48.78125 52.59375 \nL 48.78125 44.1875 \nQ 44.96875 46.296875 41.140625 47.34375 \nQ 37.3125 48.390625 33.40625 48.390625 \nQ 24.65625 48.390625 19.8125 42.84375 \nQ 14.984375 37.3125 14.984375 27.296875 \nQ 14.984375 17.28125 19.8125 11.734375 \nQ 24.65625 6.203125 33.40625 6.203125 \nQ 37.3125 6.203125 41.140625 7.25 \nQ 44.96875 8.296875 48.78125 10.40625 \nL 48.78125 2.09375 \nQ 45.015625 0.34375 40.984375 -0.53125 \nQ 36.96875 -1.421875 32.421875 -1.421875 \nQ 20.0625 -1.421875 12.78125 6.34375 \nQ 5.515625 14.109375 5.515625 27.296875 \nQ 5.515625 40.671875 12.859375 48.328125 \nQ 20.21875 56 33.015625 56 \nQ 37.15625 56 41.109375 55.140625 \nQ 45.0625 54.296875 48.78125 52.59375 \nz\n\" id=\"DejaVuSans-99\"/>\n    </defs>\n    <g transform=\"translate(540.810176 16.318125)scale(0.12 -0.12)\">\n     <use xlink:href=\"#DejaVuSans-99\"/>\n     <use x=\"54.980469\" xlink:href=\"#DejaVuSans-111\"/>\n     <use x=\"116.162109\" xlink:href=\"#DejaVuSans-97\"/>\n     <use x=\"177.441406\" xlink:href=\"#DejaVuSans-116\"/>\n    </g>\n    <!-- coat -->\n    <g transform=\"translate(540.810176 29.7555)scale(0.12 -0.12)\">\n     <use xlink:href=\"#DejaVuSans-99\"/>\n     <use x=\"54.980469\" xlink:href=\"#DejaVuSans-111\"/>\n     <use x=\"116.162109\" xlink:href=\"#DejaVuSans-97\"/>\n     <use x=\"177.441406\" xlink:href=\"#DejaVuSans-116\"/>\n    </g>\n   </g>\n  </g>\n  <g id=\"axes_8\">\n   <g id=\"patch_37\">\n    <path d=\"M 603.183146 106.289208 \nL 673.716854 106.289208 \nL 673.716854 35.7555 \nL 603.183146 35.7555 \nz\n\" style=\"fill:#ffffff;\"/>\n   </g>\n   <g clip-path=\"url(#p78640b4c10)\">\n    <image height=\"71\" id=\"image46d7876855\" transform=\"scale(1 -1)translate(0 -71)\" width=\"71\" x=\"603.183146\" xlink:href=\"data:image/png;base64,\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\" y=\"-35.289208\"/>\n   </g>\n   <g id=\"patch_38\">\n    <path d=\"M 603.183146 106.289208 \nL 603.183146 35.7555 \n\" style=\"fill:none;stroke:#000000;stroke-linecap:square;stroke-linejoin:miter;stroke-width:0.8;\"/>\n   </g>\n   <g id=\"patch_39\">\n    <path d=\"M 673.716854 106.289208 \nL 673.716854 35.7555 \n\" style=\"fill:none;stroke:#000000;stroke-linecap:square;stroke-linejoin:miter;stroke-width:0.8;\"/>\n   </g>\n   <g id=\"patch_40\">\n    <path d=\"M 603.183146 106.289208 \nL 673.716854 106.289208 \n\" style=\"fill:none;stroke:#000000;stroke-linecap:square;stroke-linejoin:miter;stroke-width:0.8;\"/>\n   </g>\n   <g id=\"patch_41\">\n    <path d=\"M 603.183146 35.7555 \nL 673.716854 35.7555 \n\" style=\"fill:none;stroke:#000000;stroke-linecap:square;stroke-linejoin:miter;stroke-width:0.8;\"/>\n   </g>\n   <g id=\"text_8\">\n    <!-- shirt -->\n    <g transform=\"translate(625.03625 16.318125)scale(0.12 -0.12)\">\n     <use xlink:href=\"#DejaVuSans-115\"/>\n     <use x=\"52.099609\" xlink:href=\"#DejaVuSans-104\"/>\n     <use x=\"115.478516\" xlink:href=\"#DejaVuSans-105\"/>\n     <use x=\"143.261719\" xlink:href=\"#DejaVuSans-114\"/>\n     <use x=\"184.375\" xlink:href=\"#DejaVuSans-116\"/>\n    </g>\n    <!-- shirt -->\n    <g transform=\"translate(625.03625 29.7555)scale(0.12 -0.12)\">\n     <use xlink:href=\"#DejaVuSans-115\"/>\n     <use x=\"52.099609\" xlink:href=\"#DejaVuSans-104\"/>\n     <use x=\"115.478516\" xlink:href=\"#DejaVuSans-105\"/>\n     <use x=\"143.261719\" xlink:href=\"#DejaVuSans-114\"/>\n     <use x=\"184.375\" xlink:href=\"#DejaVuSans-116\"/>\n    </g>\n   </g>\n  </g>\n  <g id=\"axes_9\">\n   <g id=\"patch_42\">\n    <path d=\"M 687.823596 106.289208 \nL 758.357303 106.289208 \nL 758.357303 35.7555 \nL 687.823596 35.7555 \nz\n\" style=\"fill:#ffffff;\"/>\n   </g>\n   <g clip-path=\"url(#p27cc2b58ce)\">\n    <image height=\"71\" id=\"imaged8e3cc8fa6\" transform=\"scale(1 -1)translate(0 -71)\" width=\"71\" x=\"687.823596\" xlink:href=\"data:image/png;base64,\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\" y=\"-35.289208\"/>\n   </g>\n   <g id=\"patch_43\">\n    <path d=\"M 687.823596 106.289208 \nL 687.823596 35.7555 \n\" style=\"fill:none;stroke:#000000;stroke-linecap:square;stroke-linejoin:miter;stroke-width:0.8;\"/>\n   </g>\n   <g id=\"patch_44\">\n    <path d=\"M 758.357303 106.289208 \nL 758.357303 35.7555 \n\" style=\"fill:none;stroke:#000000;stroke-linecap:square;stroke-linejoin:miter;stroke-width:0.8;\"/>\n   </g>\n   <g id=\"patch_45\">\n    <path d=\"M 687.823596 106.289208 \nL 758.357303 106.289208 \n\" style=\"fill:none;stroke:#000000;stroke-linecap:square;stroke-linejoin:miter;stroke-width:0.8;\"/>\n   </g>\n   <g id=\"patch_46\">\n    <path d=\"M 687.823596 35.7555 \nL 758.357303 35.7555 \n\" style=\"fill:none;stroke:#000000;stroke-linecap:square;stroke-linejoin:miter;stroke-width:0.8;\"/>\n   </g>\n   <g id=\"text_9\">\n    <!-- sandal -->\n    <defs>\n     <path d=\"M 45.40625 46.390625 \nL 45.40625 75.984375 \nL 54.390625 75.984375 \nL 54.390625 0 \nL 45.40625 0 \nL 45.40625 8.203125 \nQ 42.578125 3.328125 38.25 0.953125 \nQ 33.9375 -1.421875 27.875 -1.421875 \nQ 17.96875 -1.421875 11.734375 6.484375 \nQ 5.515625 14.40625 5.515625 27.296875 \nQ 5.515625 40.1875 11.734375 48.09375 \nQ 17.96875 56 27.875 56 \nQ 33.9375 56 38.25 53.625 \nQ 42.578125 51.265625 45.40625 46.390625 \nz\nM 14.796875 27.296875 \nQ 14.796875 17.390625 18.875 11.75 \nQ 22.953125 6.109375 30.078125 6.109375 \nQ 37.203125 6.109375 41.296875 11.75 \nQ 45.40625 17.390625 45.40625 27.296875 \nQ 45.40625 37.203125 41.296875 42.84375 \nQ 37.203125 48.484375 30.078125 48.484375 \nQ 22.953125 48.484375 18.875 42.84375 \nQ 14.796875 37.203125 14.796875 27.296875 \nz\n\" id=\"DejaVuSans-100\"/>\n    </defs>\n    <g transform=\"translate(703.332637 16.318125)scale(0.12 -0.12)\">\n     <use xlink:href=\"#DejaVuSans-115\"/>\n     <use x=\"52.099609\" xlink:href=\"#DejaVuSans-97\"/>\n     <use x=\"113.378906\" xlink:href=\"#DejaVuSans-110\"/>\n     <use x=\"176.757812\" xlink:href=\"#DejaVuSans-100\"/>\n     <use x=\"240.234375\" xlink:href=\"#DejaVuSans-97\"/>\n     <use x=\"301.513672\" xlink:href=\"#DejaVuSans-108\"/>\n    </g>\n    <!-- sandal -->\n    <g transform=\"translate(703.332637 29.7555)scale(0.12 -0.12)\">\n     <use xlink:href=\"#DejaVuSans-115\"/>\n     <use x=\"52.099609\" xlink:href=\"#DejaVuSans-97\"/>\n     <use x=\"113.378906\" xlink:href=\"#DejaVuSans-110\"/>\n     <use x=\"176.757812\" xlink:href=\"#DejaVuSans-100\"/>\n     <use x=\"240.234375\" xlink:href=\"#DejaVuSans-97\"/>\n     <use x=\"301.513672\" xlink:href=\"#DejaVuSans-108\"/>\n    </g>\n   </g>\n  </g>\n  <g id=\"axes_10\">\n   <g id=\"patch_47\">\n    <path d=\"M 772.464045 106.289208 \nL 842.997753 106.289208 \nL 842.997753 35.7555 \nL 772.464045 35.7555 \nz\n\" style=\"fill:#ffffff;\"/>\n   </g>\n   <g clip-path=\"url(#p940273344e)\">\n    <image height=\"71\" id=\"image43a0415354\" transform=\"scale(1 -1)translate(0 -71)\" width=\"71\" x=\"772.464045\" xlink:href=\"data:image/png;base64,\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\" y=\"-35.289208\"/>\n   </g>\n   <g id=\"patch_48\">\n    <path d=\"M 772.464045 106.289208 \nL 772.464045 35.7555 \n\" style=\"fill:none;stroke:#000000;stroke-linecap:square;stroke-linejoin:miter;stroke-width:0.8;\"/>\n   </g>\n   <g id=\"patch_49\">\n    <path d=\"M 842.997753 106.289208 \nL 842.997753 35.7555 \n\" style=\"fill:none;stroke:#000000;stroke-linecap:square;stroke-linejoin:miter;stroke-width:0.8;\"/>\n   </g>\n   <g id=\"patch_50\">\n    <path d=\"M 772.464045 106.289208 \nL 842.997753 106.289208 \n\" style=\"fill:none;stroke:#000000;stroke-linecap:square;stroke-linejoin:miter;stroke-width:0.8;\"/>\n   </g>\n   <g id=\"patch_51\">\n    <path d=\"M 772.464045 35.7555 \nL 842.997753 35.7555 \n\" style=\"fill:none;stroke:#000000;stroke-linecap:square;stroke-linejoin:miter;stroke-width:0.8;\"/>\n   </g>\n   <g id=\"text_10\">\n    <!-- sneaker -->\n    <g transform=\"translate(784.018711 16.318125)scale(0.12 -0.12)\">\n     <use xlink:href=\"#DejaVuSans-115\"/>\n     <use x=\"52.099609\" xlink:href=\"#DejaVuSans-110\"/>\n     <use x=\"115.478516\" xlink:href=\"#DejaVuSans-101\"/>\n     <use x=\"177.001953\" xlink:href=\"#DejaVuSans-97\"/>\n     <use x=\"238.28125\" xlink:href=\"#DejaVuSans-107\"/>\n     <use x=\"292.566406\" xlink:href=\"#DejaVuSans-101\"/>\n     <use x=\"354.089844\" xlink:href=\"#DejaVuSans-114\"/>\n    </g>\n    <!-- sneaker -->\n    <g transform=\"translate(784.018711 29.7555)scale(0.12 -0.12)\">\n     <use xlink:href=\"#DejaVuSans-115\"/>\n     <use x=\"52.099609\" xlink:href=\"#DejaVuSans-110\"/>\n     <use x=\"115.478516\" xlink:href=\"#DejaVuSans-101\"/>\n     <use x=\"177.001953\" xlink:href=\"#DejaVuSans-97\"/>\n     <use x=\"238.28125\" xlink:href=\"#DejaVuSans-107\"/>\n     <use x=\"292.566406\" xlink:href=\"#DejaVuSans-101\"/>\n     <use x=\"354.089844\" xlink:href=\"#DejaVuSans-114\"/>\n    </g>\n   </g>\n  </g>\n  <g id=\"axes_11\">\n   <g id=\"patch_52\">\n    <path d=\"M 857.104494 106.289208 \nL 927.638202 106.289208 \nL 927.638202 35.7555 \nL 857.104494 35.7555 \nz\n\" style=\"fill:#ffffff;\"/>\n   </g>\n   <g clip-path=\"url(#p9df8bff851)\">\n    <image height=\"71\" id=\"imagebc894d4857\" transform=\"scale(1 -1)translate(0 -71)\" width=\"71\" x=\"857.104494\" xlink:href=\"data:image/png;base64,\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\" y=\"-35.289208\"/>\n   </g>\n   <g id=\"patch_53\">\n    <path d=\"M 857.104494 106.289208 \nL 857.104494 35.7555 \n\" style=\"fill:none;stroke:#000000;stroke-linecap:square;stroke-linejoin:miter;stroke-width:0.8;\"/>\n   </g>\n   <g id=\"patch_54\">\n    <path d=\"M 927.638202 106.289208 \nL 927.638202 35.7555 \n\" style=\"fill:none;stroke:#000000;stroke-linecap:square;stroke-linejoin:miter;stroke-width:0.8;\"/>\n   </g>\n   <g id=\"patch_55\">\n    <path d=\"M 857.104494 106.289208 \nL 927.638202 106.289208 \n\" style=\"fill:none;stroke:#000000;stroke-linecap:square;stroke-linejoin:miter;stroke-width:0.8;\"/>\n   </g>\n   <g id=\"patch_56\">\n    <path d=\"M 857.104494 35.7555 \nL 927.638202 35.7555 \n\" style=\"fill:none;stroke:#000000;stroke-linecap:square;stroke-linejoin:miter;stroke-width:0.8;\"/>\n   </g>\n   <g id=\"text_11\">\n    <!-- coat -->\n    <g transform=\"translate(879.371973 16.318125)scale(0.12 -0.12)\">\n     <use xlink:href=\"#DejaVuSans-99\"/>\n     <use x=\"54.980469\" xlink:href=\"#DejaVuSans-111\"/>\n     <use x=\"116.162109\" xlink:href=\"#DejaVuSans-97\"/>\n     <use x=\"177.441406\" xlink:href=\"#DejaVuSans-116\"/>\n    </g>\n    <!-- coat -->\n    <g transform=\"translate(879.371973 29.7555)scale(0.12 -0.12)\">\n     <use xlink:href=\"#DejaVuSans-99\"/>\n     <use x=\"54.980469\" xlink:href=\"#DejaVuSans-111\"/>\n     <use x=\"116.162109\" xlink:href=\"#DejaVuSans-97\"/>\n     <use x=\"177.441406\" xlink:href=\"#DejaVuSans-116\"/>\n    </g>\n   </g>\n  </g>\n  <g id=\"axes_12\">\n   <g id=\"patch_57\">\n    <path d=\"M 941.744944 106.289208 \nL 1012.278652 106.289208 \nL 1012.278652 35.7555 \nL 941.744944 35.7555 \nz\n\" style=\"fill:#ffffff;\"/>\n   </g>\n   <g clip-path=\"url(#pb32ec33eef)\">\n    <image height=\"71\" id=\"image2b8de9aca6\" transform=\"scale(1 -1)translate(0 -71)\" width=\"71\" x=\"941.744944\" xlink:href=\"data:image/png;base64,\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\" y=\"-35.289208\"/>\n   </g>\n   <g id=\"patch_58\">\n    <path d=\"M 941.744944 106.289208 \nL 941.744944 35.7555 \n\" style=\"fill:none;stroke:#000000;stroke-linecap:square;stroke-linejoin:miter;stroke-width:0.8;\"/>\n   </g>\n   <g id=\"patch_59\">\n    <path d=\"M 1012.278652 106.289208 \nL 1012.278652 35.7555 \n\" style=\"fill:none;stroke:#000000;stroke-linecap:square;stroke-linejoin:miter;stroke-width:0.8;\"/>\n   </g>\n   <g id=\"patch_60\">\n    <path d=\"M 941.744944 106.289208 \nL 1012.278652 106.289208 \n\" style=\"fill:none;stroke:#000000;stroke-linecap:square;stroke-linejoin:miter;stroke-width:0.8;\"/>\n   </g>\n   <g id=\"patch_61\">\n    <path d=\"M 941.744944 35.7555 \nL 1012.278652 35.7555 \n\" style=\"fill:none;stroke:#000000;stroke-linecap:square;stroke-linejoin:miter;stroke-width:0.8;\"/>\n   </g>\n   <g id=\"text_12\">\n    <!-- sandal -->\n    <g transform=\"translate(957.253985 16.318125)scale(0.12 -0.12)\">\n     <use xlink:href=\"#DejaVuSans-115\"/>\n     <use x=\"52.099609\" xlink:href=\"#DejaVuSans-97\"/>\n     <use x=\"113.378906\" xlink:href=\"#DejaVuSans-110\"/>\n     <use x=\"176.757812\" xlink:href=\"#DejaVuSans-100\"/>\n     <use x=\"240.234375\" xlink:href=\"#DejaVuSans-97\"/>\n     <use x=\"301.513672\" xlink:href=\"#DejaVuSans-108\"/>\n    </g>\n    <!-- sandal -->\n    <g transform=\"translate(957.253985 29.7555)scale(0.12 -0.12)\">\n     <use xlink:href=\"#DejaVuSans-115\"/>\n     <use x=\"52.099609\" xlink:href=\"#DejaVuSans-97\"/>\n     <use x=\"113.378906\" xlink:href=\"#DejaVuSans-110\"/>\n     <use x=\"176.757812\" xlink:href=\"#DejaVuSans-100\"/>\n     <use x=\"240.234375\" xlink:href=\"#DejaVuSans-97\"/>\n     <use x=\"301.513672\" xlink:href=\"#DejaVuSans-108\"/>\n    </g>\n   </g>\n  </g>\n  <g id=\"axes_13\">\n   <g id=\"patch_62\">\n    <path d=\"M 1026.385393 106.289208 \nL 1096.919101 106.289208 \nL 1096.919101 35.7555 \nL 1026.385393 35.7555 \nz\n\" style=\"fill:#ffffff;\"/>\n   </g>\n   <g clip-path=\"url(#pad4078054c)\">\n    <image height=\"71\" id=\"imageca8ada59ac\" transform=\"scale(1 -1)translate(0 -71)\" width=\"71\" x=\"1026.385393\" xlink:href=\"data:image/png;base64,\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\" y=\"-35.289208\"/>\n   </g>\n   <g id=\"patch_63\">\n    <path d=\"M 1026.385393 106.289208 \nL 1026.385393 35.7555 \n\" style=\"fill:none;stroke:#000000;stroke-linecap:square;stroke-linejoin:miter;stroke-width:0.8;\"/>\n   </g>\n   <g id=\"patch_64\">\n    <path d=\"M 1096.919101 106.289208 \nL 1096.919101 35.7555 \n\" style=\"fill:none;stroke:#000000;stroke-linecap:square;stroke-linejoin:miter;stroke-width:0.8;\"/>\n   </g>\n   <g id=\"patch_65\">\n    <path d=\"M 1026.385393 106.289208 \nL 1096.919101 106.289208 \n\" style=\"fill:none;stroke:#000000;stroke-linecap:square;stroke-linejoin:miter;stroke-width:0.8;\"/>\n   </g>\n   <g id=\"patch_66\">\n    <path d=\"M 1026.385393 35.7555 \nL 1096.919101 35.7555 \n\" style=\"fill:none;stroke:#000000;stroke-linecap:square;stroke-linejoin:miter;stroke-width:0.8;\"/>\n   </g>\n   <g id=\"text_13\">\n    <!-- sneaker -->\n    <g transform=\"translate(1037.94006 16.318125)scale(0.12 -0.12)\">\n     <use xlink:href=\"#DejaVuSans-115\"/>\n     <use x=\"52.099609\" xlink:href=\"#DejaVuSans-110\"/>\n     <use x=\"115.478516\" xlink:href=\"#DejaVuSans-101\"/>\n     <use x=\"177.001953\" xlink:href=\"#DejaVuSans-97\"/>\n     <use x=\"238.28125\" xlink:href=\"#DejaVuSans-107\"/>\n     <use x=\"292.566406\" xlink:href=\"#DejaVuSans-101\"/>\n     <use x=\"354.089844\" xlink:href=\"#DejaVuSans-114\"/>\n    </g>\n    <!-- sandal -->\n    <g transform=\"translate(1041.894435 29.7555)scale(0.12 -0.12)\">\n     <use xlink:href=\"#DejaVuSans-115\"/>\n     <use x=\"52.099609\" xlink:href=\"#DejaVuSans-97\"/>\n     <use x=\"113.378906\" xlink:href=\"#DejaVuSans-110\"/>\n     <use x=\"176.757812\" xlink:href=\"#DejaVuSans-100\"/>\n     <use x=\"240.234375\" xlink:href=\"#DejaVuSans-97\"/>\n     <use x=\"301.513672\" xlink:href=\"#DejaVuSans-108\"/>\n    </g>\n   </g>\n  </g>\n  <g id=\"axes_14\">\n   <g id=\"patch_67\">\n    <path d=\"M 1111.025843 106.289208 \nL 1181.559551 106.289208 \nL 1181.559551 35.7555 \nL 1111.025843 35.7555 \nz\n\" style=\"fill:#ffffff;\"/>\n   </g>\n   <g clip-path=\"url(#p55dfed03a0)\">\n    <image height=\"71\" id=\"image4c1f3d1eff\" transform=\"scale(1 -1)translate(0 -71)\" width=\"71\" x=\"1111.025843\" xlink:href=\"data:image/png;base64,\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\" y=\"-35.289208\"/>\n   </g>\n   <g id=\"patch_68\">\n    <path d=\"M 1111.025843 106.289208 \nL 1111.025843 35.7555 \n\" style=\"fill:none;stroke:#000000;stroke-linecap:square;stroke-linejoin:miter;stroke-width:0.8;\"/>\n   </g>\n   <g id=\"patch_69\">\n    <path d=\"M 1181.559551 106.289208 \nL 1181.559551 35.7555 \n\" style=\"fill:none;stroke:#000000;stroke-linecap:square;stroke-linejoin:miter;stroke-width:0.8;\"/>\n   </g>\n   <g id=\"patch_70\">\n    <path d=\"M 1111.025843 106.289208 \nL 1181.559551 106.289208 \n\" style=\"fill:none;stroke:#000000;stroke-linecap:square;stroke-linejoin:miter;stroke-width:0.8;\"/>\n   </g>\n   <g id=\"patch_71\">\n    <path d=\"M 1111.025843 35.7555 \nL 1181.559551 35.7555 \n\" style=\"fill:none;stroke:#000000;stroke-linecap:square;stroke-linejoin:miter;stroke-width:0.8;\"/>\n   </g>\n   <g id=\"text_14\">\n    <!-- dress -->\n    <g transform=\"translate(1130.208947 16.318125)scale(0.12 -0.12)\">\n     <use xlink:href=\"#DejaVuSans-100\"/>\n     <use x=\"63.476562\" xlink:href=\"#DejaVuSans-114\"/>\n     <use x=\"102.339844\" xlink:href=\"#DejaVuSans-101\"/>\n     <use x=\"163.863281\" xlink:href=\"#DejaVuSans-115\"/>\n     <use x=\"215.962891\" xlink:href=\"#DejaVuSans-115\"/>\n    </g>\n    <!-- dress -->\n    <g transform=\"translate(1130.208947 29.7555)scale(0.12 -0.12)\">\n     <use xlink:href=\"#DejaVuSans-100\"/>\n     <use x=\"63.476562\" xlink:href=\"#DejaVuSans-114\"/>\n     <use x=\"102.339844\" xlink:href=\"#DejaVuSans-101\"/>\n     <use x=\"163.863281\" xlink:href=\"#DejaVuSans-115\"/>\n     <use x=\"215.962891\" xlink:href=\"#DejaVuSans-115\"/>\n    </g>\n   </g>\n  </g>\n  <g id=\"axes_15\">\n   <g id=\"patch_72\">\n    <path d=\"M 1195.666292 106.289208 \nL 1266.2 106.289208 \nL 1266.2 35.7555 \nL 1195.666292 35.7555 \nz\n\" style=\"fill:#ffffff;\"/>\n   </g>\n   <g clip-path=\"url(#p8e7ee60377)\">\n    <image height=\"71\" id=\"image198109b655\" transform=\"scale(1 -1)translate(0 -71)\" width=\"71\" x=\"1195.666292\" xlink:href=\"data:image/png;base64,\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\" y=\"-35.289208\"/>\n   </g>\n   <g id=\"patch_73\">\n    <path d=\"M 1195.666292 106.289208 \nL 1195.666292 35.7555 \n\" style=\"fill:none;stroke:#000000;stroke-linecap:square;stroke-linejoin:miter;stroke-width:0.8;\"/>\n   </g>\n   <g id=\"patch_74\">\n    <path d=\"M 1266.2 106.289208 \nL 1266.2 35.7555 \n\" style=\"fill:none;stroke:#000000;stroke-linecap:square;stroke-linejoin:miter;stroke-width:0.8;\"/>\n   </g>\n   <g id=\"patch_75\">\n    <path d=\"M 1195.666292 106.289208 \nL 1266.2 106.289208 \n\" style=\"fill:none;stroke:#000000;stroke-linecap:square;stroke-linejoin:miter;stroke-width:0.8;\"/>\n   </g>\n   <g id=\"patch_76\">\n    <path d=\"M 1195.666292 35.7555 \nL 1266.2 35.7555 \n\" style=\"fill:none;stroke:#000000;stroke-linecap:square;stroke-linejoin:miter;stroke-width:0.8;\"/>\n   </g>\n   <g id=\"text_15\">\n    <!-- coat -->\n    <g transform=\"translate(1217.933771 16.318125)scale(0.12 -0.12)\">\n     <use xlink:href=\"#DejaVuSans-99\"/>\n     <use x=\"54.980469\" xlink:href=\"#DejaVuSans-111\"/>\n     <use x=\"116.162109\" xlink:href=\"#DejaVuSans-97\"/>\n     <use x=\"177.441406\" xlink:href=\"#DejaVuSans-116\"/>\n    </g>\n    <!-- coat -->\n    <g transform=\"translate(1217.933771 29.7555)scale(0.12 -0.12)\">\n     <use xlink:href=\"#DejaVuSans-99\"/>\n     <use x=\"54.980469\" xlink:href=\"#DejaVuSans-111\"/>\n     <use x=\"116.162109\" xlink:href=\"#DejaVuSans-97\"/>\n     <use x=\"177.441406\" xlink:href=\"#DejaVuSans-116\"/>\n    </g>\n   </g>\n  </g>\n </g>\n <defs>\n  <clipPath id=\"p21e6a78d28\">\n   <rect height=\"70.533708\" width=\"70.533708\" x=\"10.7\" y=\"35.7555\"/>\n  </clipPath>\n  <clipPath id=\"p2a8053bcea\">\n   <rect height=\"70.533708\" width=\"70.533708\" x=\"95.340449\" y=\"35.7555\"/>\n  </clipPath>\n  <clipPath id=\"p7eee8e8451\">\n   <rect height=\"70.533708\" width=\"70.533708\" x=\"179.980899\" y=\"35.7555\"/>\n  </clipPath>\n  <clipPath id=\"pbc51c74e5d\">\n   <rect height=\"70.533708\" width=\"70.533708\" x=\"264.621348\" y=\"35.7555\"/>\n  </clipPath>\n  <clipPath id=\"paa76e3d087\">\n   <rect height=\"70.533708\" width=\"70.533708\" x=\"349.261798\" y=\"35.7555\"/>\n  </clipPath>\n  <clipPath id=\"p41f44f23ee\">\n   <rect height=\"70.533708\" width=\"70.533708\" x=\"433.902247\" y=\"35.7555\"/>\n  </clipPath>\n  <clipPath id=\"pdf9d334fcd\">\n   <rect height=\"70.533708\" width=\"70.533708\" x=\"518.542697\" y=\"35.7555\"/>\n  </clipPath>\n  <clipPath id=\"p78640b4c10\">\n   <rect height=\"70.533708\" width=\"70.533708\" x=\"603.183146\" y=\"35.7555\"/>\n  </clipPath>\n  <clipPath id=\"p27cc2b58ce\">\n   <rect height=\"70.533708\" width=\"70.533708\" x=\"687.823596\" y=\"35.7555\"/>\n  </clipPath>\n  <clipPath id=\"p940273344e\">\n   <rect height=\"70.533708\" width=\"70.533708\" x=\"772.464045\" y=\"35.7555\"/>\n  </clipPath>\n  <clipPath id=\"p9df8bff851\">\n   <rect height=\"70.533708\" width=\"70.533708\" x=\"857.104494\" y=\"35.7555\"/>\n  </clipPath>\n  <clipPath id=\"pb32ec33eef\">\n   <rect height=\"70.533708\" width=\"70.533708\" x=\"941.744944\" y=\"35.7555\"/>\n  </clipPath>\n  <clipPath id=\"pad4078054c\">\n   <rect height=\"70.533708\" width=\"70.533708\" x=\"1026.385393\" y=\"35.7555\"/>\n  </clipPath>\n  <clipPath id=\"p55dfed03a0\">\n   <rect height=\"70.533708\" width=\"70.533708\" x=\"1111.025843\" y=\"35.7555\"/>\n  </clipPath>\n  <clipPath id=\"p8e7ee60377\">\n   <rect height=\"70.533708\" width=\"70.533708\" x=\"1195.666292\" y=\"35.7555\"/>\n  </clipPath>\n </defs>\n</svg>\n"
          },
          "metadata": {
            "tags": [],
            "needs_background": "light"
          }
        }
      ]
    },
    {
      "cell_type": "markdown",
      "metadata": {
        "origin_pos": 52,
        "id": "IbgsCfX0PYKJ"
      },
      "source": [
        "## Summary\n",
        "\n",
        "* With softmax regression, we can train models for multiclass classification.\n",
        "* The training loop of softmax regression is very similar to that in linear regression: retrieve and read data, define models and loss functions, then train models using optimization algorithms. As you will soon find out, most common deep learning models have similar training procedures.\n",
        "\n",
        "## Exercises\n",
        "\n",
        "1. In this section, we directly implemented the softmax function based on the mathematical definition of the softmax operation. What problems might this cause? Hint: try to calculate the size of $\\exp(50)$.\n",
        "1. The function `cross_entropy` in this section was implemented according to the definition of the cross-entropy loss function.  What could be the problem with this implementation? Hint: consider the domain of the logarithm.\n",
        "1. What solutions you can think of to fix the two problems above?\n",
        "1. Is it always a good idea to return the most likely label? For example, would you do this for medical diagnosis?\n",
        "1. Assume that we want to use softmax regression to predict the next word based on some features. What are some problems that might arise from a large vocabulary?\n"
      ]
    },
    {
      "cell_type": "markdown",
      "metadata": {
        "origin_pos": 55,
        "tab": [
          "tensorflow"
        ],
        "id": "T4Umti3hPYKJ"
      },
      "source": [
        "[Discussions](https://discuss.d2l.ai/t/225)\n"
      ]
    }
  ]
}